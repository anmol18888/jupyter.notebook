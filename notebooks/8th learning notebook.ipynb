{
 "metadata": {
  "language_info": {
   "codemirror_mode": {
    "name": "ipython",
    "version": 3
   },
   "file_extension": ".py",
   "mimetype": "text/x-python",
   "name": "python",
   "nbconvert_exporter": "python",
   "pygments_lexer": "ipython3",
   "version": "3.8.5"
  },
  "orig_nbformat": 2,
  "kernelspec": {
   "name": "python3",
   "display_name": "Python 3.8.5 32-bit ('base': conda)",
   "metadata": {
    "interpreter": {
     "hash": "b3ba2566441a7c06988d0923437866b63cedc61552a5af99d1f4fb67d367b25f"
    }
   }
  }
 },
 "nbformat": 4,
 "nbformat_minor": 2,
 "cells": [
  {
   "source": [
    "Today ill be learning to use pandas in this notebook"
   ],
   "cell_type": "markdown",
   "metadata": {}
  },
  {
   "cell_type": "code",
   "execution_count": 1,
   "metadata": {},
   "outputs": [],
   "source": [
    "import pandas"
   ]
  },
  {
   "cell_type": "code",
   "execution_count": 3,
   "metadata": {},
   "outputs": [],
   "source": [
    "songs={'Album':['thriller','back in black','the bodyguard','the dark side of the moon','bat out of hell'],'Released':[1982,1980,1973,1992,1987],'Length':['00:42:19','00:42:11','00:42:19','00:42:10','00:41:50']}"
   ]
  },
  {
   "cell_type": "code",
   "execution_count": 4,
   "metadata": {},
   "outputs": [],
   "source": [
    "songs_frame=pandas.DataFrame(songs)"
   ]
  },
  {
   "cell_type": "code",
   "execution_count": 5,
   "metadata": {},
   "outputs": [
    {
     "output_type": "execute_result",
     "data": {
      "text/plain": [
       "                       Album  Released    Length\n",
       "0                   thriller      1982  00:42:19\n",
       "1              back in black      1980  00:42:11\n",
       "2              the bodyguard      1973  00:42:19\n",
       "3  the dark side of the moon      1992  00:42:10\n",
       "4            bat out of hell      1987  00:41:50"
      ],
      "text/html": "<div>\n<style scoped>\n    .dataframe tbody tr th:only-of-type {\n        vertical-align: middle;\n    }\n\n    .dataframe tbody tr th {\n        vertical-align: top;\n    }\n\n    .dataframe thead th {\n        text-align: right;\n    }\n</style>\n<table border=\"1\" class=\"dataframe\">\n  <thead>\n    <tr style=\"text-align: right;\">\n      <th></th>\n      <th>Album</th>\n      <th>Released</th>\n      <th>Length</th>\n    </tr>\n  </thead>\n  <tbody>\n    <tr>\n      <th>0</th>\n      <td>thriller</td>\n      <td>1982</td>\n      <td>00:42:19</td>\n    </tr>\n    <tr>\n      <th>1</th>\n      <td>back in black</td>\n      <td>1980</td>\n      <td>00:42:11</td>\n    </tr>\n    <tr>\n      <th>2</th>\n      <td>the bodyguard</td>\n      <td>1973</td>\n      <td>00:42:19</td>\n    </tr>\n    <tr>\n      <th>3</th>\n      <td>the dark side of the moon</td>\n      <td>1992</td>\n      <td>00:42:10</td>\n    </tr>\n    <tr>\n      <th>4</th>\n      <td>bat out of hell</td>\n      <td>1987</td>\n      <td>00:41:50</td>\n    </tr>\n  </tbody>\n</table>\n</div>"
     },
     "metadata": {},
     "execution_count": 5
    }
   ],
   "source": [
    "songs_frame"
   ]
  },
  {
   "cell_type": "code",
   "execution_count": 6,
   "metadata": {},
   "outputs": [
    {
     "output_type": "execute_result",
     "data": {
      "text/plain": [
       "                       Album\n",
       "0                   thriller\n",
       "1              back in black\n",
       "2              the bodyguard\n",
       "3  the dark side of the moon\n",
       "4            bat out of hell"
      ],
      "text/html": "<div>\n<style scoped>\n    .dataframe tbody tr th:only-of-type {\n        vertical-align: middle;\n    }\n\n    .dataframe tbody tr th {\n        vertical-align: top;\n    }\n\n    .dataframe thead th {\n        text-align: right;\n    }\n</style>\n<table border=\"1\" class=\"dataframe\">\n  <thead>\n    <tr style=\"text-align: right;\">\n      <th></th>\n      <th>Album</th>\n    </tr>\n  </thead>\n  <tbody>\n    <tr>\n      <th>0</th>\n      <td>thriller</td>\n    </tr>\n    <tr>\n      <th>1</th>\n      <td>back in black</td>\n    </tr>\n    <tr>\n      <th>2</th>\n      <td>the bodyguard</td>\n    </tr>\n    <tr>\n      <th>3</th>\n      <td>the dark side of the moon</td>\n    </tr>\n    <tr>\n      <th>4</th>\n      <td>bat out of hell</td>\n    </tr>\n  </tbody>\n</table>\n</div>"
     },
     "metadata": {},
     "execution_count": 6
    }
   ],
   "source": [
    "x=songs_frame[['Album']]\n",
    "x"
   ]
  },
  {
   "cell_type": "code",
   "execution_count": 7,
   "metadata": {},
   "outputs": [],
   "source": [
    "y=songs_frame[['Album','Length']]"
   ]
  },
  {
   "cell_type": "code",
   "execution_count": 8,
   "metadata": {},
   "outputs": [
    {
     "output_type": "execute_result",
     "data": {
      "text/plain": [
       "                       Album    Length\n",
       "0                   thriller  00:42:19\n",
       "1              back in black  00:42:11\n",
       "2              the bodyguard  00:42:19\n",
       "3  the dark side of the moon  00:42:10\n",
       "4            bat out of hell  00:41:50"
      ],
      "text/html": "<div>\n<style scoped>\n    .dataframe tbody tr th:only-of-type {\n        vertical-align: middle;\n    }\n\n    .dataframe tbody tr th {\n        vertical-align: top;\n    }\n\n    .dataframe thead th {\n        text-align: right;\n    }\n</style>\n<table border=\"1\" class=\"dataframe\">\n  <thead>\n    <tr style=\"text-align: right;\">\n      <th></th>\n      <th>Album</th>\n      <th>Length</th>\n    </tr>\n  </thead>\n  <tbody>\n    <tr>\n      <th>0</th>\n      <td>thriller</td>\n      <td>00:42:19</td>\n    </tr>\n    <tr>\n      <th>1</th>\n      <td>back in black</td>\n      <td>00:42:11</td>\n    </tr>\n    <tr>\n      <th>2</th>\n      <td>the bodyguard</td>\n      <td>00:42:19</td>\n    </tr>\n    <tr>\n      <th>3</th>\n      <td>the dark side of the moon</td>\n      <td>00:42:10</td>\n    </tr>\n    <tr>\n      <th>4</th>\n      <td>bat out of hell</td>\n      <td>00:41:50</td>\n    </tr>\n  </tbody>\n</table>\n</div>"
     },
     "metadata": {},
     "execution_count": 8
    }
   ],
   "source": [
    "y"
   ]
  },
  {
   "cell_type": "code",
   "execution_count": 9,
   "metadata": {},
   "outputs": [],
   "source": [
    "y.loc[1,'Album']:'back in black'"
   ]
  },
  {
   "cell_type": "code",
   "execution_count": 10,
   "metadata": {},
   "outputs": [],
   "source": [
    "y.loc[1,'Album']:'thriller'"
   ]
  },
  {
   "cell_type": "code",
   "execution_count": 11,
   "metadata": {},
   "outputs": [
    {
     "output_type": "execute_result",
     "data": {
      "text/plain": [
       "                       Album    Length\n",
       "0                   thriller  00:42:19\n",
       "1              back in black  00:42:11\n",
       "2              the bodyguard  00:42:19\n",
       "3  the dark side of the moon  00:42:10\n",
       "4            bat out of hell  00:41:50"
      ],
      "text/html": "<div>\n<style scoped>\n    .dataframe tbody tr th:only-of-type {\n        vertical-align: middle;\n    }\n\n    .dataframe tbody tr th {\n        vertical-align: top;\n    }\n\n    .dataframe thead th {\n        text-align: right;\n    }\n</style>\n<table border=\"1\" class=\"dataframe\">\n  <thead>\n    <tr style=\"text-align: right;\">\n      <th></th>\n      <th>Album</th>\n      <th>Length</th>\n    </tr>\n  </thead>\n  <tbody>\n    <tr>\n      <th>0</th>\n      <td>thriller</td>\n      <td>00:42:19</td>\n    </tr>\n    <tr>\n      <th>1</th>\n      <td>back in black</td>\n      <td>00:42:11</td>\n    </tr>\n    <tr>\n      <th>2</th>\n      <td>the bodyguard</td>\n      <td>00:42:19</td>\n    </tr>\n    <tr>\n      <th>3</th>\n      <td>the dark side of the moon</td>\n      <td>00:42:10</td>\n    </tr>\n    <tr>\n      <th>4</th>\n      <td>bat out of hell</td>\n      <td>00:41:50</td>\n    </tr>\n  </tbody>\n</table>\n</div>"
     },
     "metadata": {},
     "execution_count": 11
    }
   ],
   "source": [
    "y"
   ]
  },
  {
   "cell_type": "code",
   "execution_count": 12,
   "metadata": {},
   "outputs": [
    {
     "output_type": "execute_result",
     "data": {
      "text/plain": [
       "'00:42:19'"
      ]
     },
     "metadata": {},
     "execution_count": 12
    }
   ],
   "source": [
    "y.loc[2,'Length']"
   ]
  },
  {
   "cell_type": "code",
   "execution_count": 13,
   "metadata": {},
   "outputs": [
    {
     "output_type": "execute_result",
     "data": {
      "text/plain": [
       "                       Album  Released    Length\n",
       "0                   thriller      1982  00:42:19\n",
       "1              back in black      1980  00:42:11\n",
       "2              the bodyguard      1973  00:42:19\n",
       "3  the dark side of the moon      1992  00:42:10\n",
       "4            bat out of hell      1987  00:41:50"
      ],
      "text/html": "<div>\n<style scoped>\n    .dataframe tbody tr th:only-of-type {\n        vertical-align: middle;\n    }\n\n    .dataframe tbody tr th {\n        vertical-align: top;\n    }\n\n    .dataframe thead th {\n        text-align: right;\n    }\n</style>\n<table border=\"1\" class=\"dataframe\">\n  <thead>\n    <tr style=\"text-align: right;\">\n      <th></th>\n      <th>Album</th>\n      <th>Released</th>\n      <th>Length</th>\n    </tr>\n  </thead>\n  <tbody>\n    <tr>\n      <th>0</th>\n      <td>thriller</td>\n      <td>1982</td>\n      <td>00:42:19</td>\n    </tr>\n    <tr>\n      <th>1</th>\n      <td>back in black</td>\n      <td>1980</td>\n      <td>00:42:11</td>\n    </tr>\n    <tr>\n      <th>2</th>\n      <td>the bodyguard</td>\n      <td>1973</td>\n      <td>00:42:19</td>\n    </tr>\n    <tr>\n      <th>3</th>\n      <td>the dark side of the moon</td>\n      <td>1992</td>\n      <td>00:42:10</td>\n    </tr>\n    <tr>\n      <th>4</th>\n      <td>bat out of hell</td>\n      <td>1987</td>\n      <td>00:41:50</td>\n    </tr>\n  </tbody>\n</table>\n</div>"
     },
     "metadata": {},
     "execution_count": 13
    }
   ],
   "source": [
    "songs_frame"
   ]
  },
  {
   "cell_type": "code",
   "execution_count": 15,
   "metadata": {},
   "outputs": [
    {
     "output_type": "execute_result",
     "data": {
      "text/plain": [
       "1992"
      ]
     },
     "metadata": {},
     "execution_count": 15
    }
   ],
   "source": [
    "songs_frame.loc[3,'Released']"
   ]
  },
  {
   "cell_type": "code",
   "execution_count": 16,
   "metadata": {},
   "outputs": [
    {
     "output_type": "execute_result",
     "data": {
      "text/plain": [
       "'thriller'"
      ]
     },
     "metadata": {},
     "execution_count": 16
    }
   ],
   "source": [
    "y.iloc[0,0]"
   ]
  },
  {
   "cell_type": "code",
   "execution_count": 17,
   "metadata": {},
   "outputs": [
    {
     "output_type": "execute_result",
     "data": {
      "text/plain": [
       "'00:42:11'"
      ]
     },
     "metadata": {},
     "execution_count": 17
    }
   ],
   "source": [
    "songs_frame.iloc[1,2]"
   ]
  },
  {
   "cell_type": "code",
   "execution_count": 19,
   "metadata": {},
   "outputs": [
    {
     "output_type": "execute_result",
     "data": {
      "text/plain": [
       "1987"
      ]
     },
     "metadata": {},
     "execution_count": 19
    }
   ],
   "source": [
    "songs_frame.iloc[4,1]"
   ]
  },
  {
   "cell_type": "code",
   "execution_count": 20,
   "metadata": {},
   "outputs": [
    {
     "output_type": "execute_result",
     "data": {
      "text/plain": [
       "           Album  Released    Length\n",
       "0       thriller      1982  00:42:19\n",
       "1  back in black      1980  00:42:11"
      ],
      "text/html": "<div>\n<style scoped>\n    .dataframe tbody tr th:only-of-type {\n        vertical-align: middle;\n    }\n\n    .dataframe tbody tr th {\n        vertical-align: top;\n    }\n\n    .dataframe thead th {\n        text-align: right;\n    }\n</style>\n<table border=\"1\" class=\"dataframe\">\n  <thead>\n    <tr style=\"text-align: right;\">\n      <th></th>\n      <th>Album</th>\n      <th>Released</th>\n      <th>Length</th>\n    </tr>\n  </thead>\n  <tbody>\n    <tr>\n      <th>0</th>\n      <td>thriller</td>\n      <td>1982</td>\n      <td>00:42:19</td>\n    </tr>\n    <tr>\n      <th>1</th>\n      <td>back in black</td>\n      <td>1980</td>\n      <td>00:42:11</td>\n    </tr>\n  </tbody>\n</table>\n</div>"
     },
     "metadata": {},
     "execution_count": 20
    }
   ],
   "source": [
    "z=songs_frame.iloc[0:2,0:3]\n",
    "z"
   ]
  },
  {
   "cell_type": "code",
   "execution_count": 25,
   "metadata": {},
   "outputs": [],
   "source": [
    "new_songs={'BTS':['moon','on','fake love','go go go','danger','n.o','we are bulletproof:eternal','boy in love','boy with luv','tear','seesaw','blood,sweat and tears','epiphany','serendipity','euphoria','friends'],'Year':[2020,2020,2018,2018,2014,2013,2020,2013,2019,2017,2017,2016,2017,2018,2017,2020],'Album Name':['map of the soul:7','map of the soul:7','wings','wings','too cool for skool','too cool for skool','map of the soul:7','dangerous','map of the soul:persona','love yourself:tear','love yourself:her','wings','love yourself','love yourself:her','love yourself','map of the soul:7']}"
   ]
  },
  {
   "cell_type": "code",
   "execution_count": 22,
   "metadata": {},
   "outputs": [
    {
     "output_type": "execute_result",
     "data": {
      "text/plain": [
       "{'BTS': ['moon',\n",
       "  'on',\n",
       "  'fake love',\n",
       "  'go go go',\n",
       "  'danger',\n",
       "  'n.o',\n",
       "  'we are bulletproof:eternal',\n",
       "  'boy in love',\n",
       "  'boy with luv',\n",
       "  'tear',\n",
       "  'seesaw',\n",
       "  'blood,sweat and tears',\n",
       "  'epiphany',\n",
       "  'serendipity',\n",
       "  'euphoria',\n",
       "  'friends'],\n",
       " 'Year': [2020,\n",
       "  2020,\n",
       "  2018,\n",
       "  2018,\n",
       "  2014,\n",
       "  2013,\n",
       "  2020,\n",
       "  2013,\n",
       "  2019,\n",
       "  2017,\n",
       "  2016,\n",
       "  2017,\n",
       "  2018,\n",
       "  2017,\n",
       "  2020],\n",
       " 'Album Name': ['map of the soul:7',\n",
       "  'map of the soul:7',\n",
       "  'wings',\n",
       "  'wings',\n",
       "  'too cool for skool',\n",
       "  'too cool for skool',\n",
       "  'map of the soul:7',\n",
       "  'dangerous',\n",
       "  'map of the soul:persona',\n",
       "  'love yourself:tear',\n",
       "  'love yourself:her',\n",
       "  'wings',\n",
       "  'love yourself',\n",
       "  'love yourself:her',\n",
       "  'love yourself',\n",
       "  'map of the soul:7']}"
      ]
     },
     "metadata": {},
     "execution_count": 22
    }
   ],
   "source": [
    "new_songs"
   ]
  },
  {
   "cell_type": "code",
   "execution_count": 26,
   "metadata": {},
   "outputs": [],
   "source": [
    "BTS_songs=pandas.DataFrame(new_songs)"
   ]
  },
  {
   "cell_type": "code",
   "execution_count": 28,
   "metadata": {},
   "outputs": [
    {
     "output_type": "execute_result",
     "data": {
      "text/plain": [
       "                           BTS  Year               Album Name\n",
       "0                         moon  2020        map of the soul:7\n",
       "1                           on  2020        map of the soul:7\n",
       "2                    fake love  2018                    wings\n",
       "3                     go go go  2018                    wings\n",
       "4                       danger  2014       too cool for skool\n",
       "5                          n.o  2013       too cool for skool\n",
       "6   we are bulletproof:eternal  2020        map of the soul:7\n",
       "7                  boy in love  2013                dangerous\n",
       "8                 boy with luv  2019  map of the soul:persona\n",
       "9                         tear  2017       love yourself:tear\n",
       "10                      seesaw  2017        love yourself:her\n",
       "11       blood,sweat and tears  2016                    wings\n",
       "12                    epiphany  2017            love yourself\n",
       "13                 serendipity  2018        love yourself:her\n",
       "14                    euphoria  2017            love yourself\n",
       "15                     friends  2020        map of the soul:7"
      ],
      "text/html": "<div>\n<style scoped>\n    .dataframe tbody tr th:only-of-type {\n        vertical-align: middle;\n    }\n\n    .dataframe tbody tr th {\n        vertical-align: top;\n    }\n\n    .dataframe thead th {\n        text-align: right;\n    }\n</style>\n<table border=\"1\" class=\"dataframe\">\n  <thead>\n    <tr style=\"text-align: right;\">\n      <th></th>\n      <th>BTS</th>\n      <th>Year</th>\n      <th>Album Name</th>\n    </tr>\n  </thead>\n  <tbody>\n    <tr>\n      <th>0</th>\n      <td>moon</td>\n      <td>2020</td>\n      <td>map of the soul:7</td>\n    </tr>\n    <tr>\n      <th>1</th>\n      <td>on</td>\n      <td>2020</td>\n      <td>map of the soul:7</td>\n    </tr>\n    <tr>\n      <th>2</th>\n      <td>fake love</td>\n      <td>2018</td>\n      <td>wings</td>\n    </tr>\n    <tr>\n      <th>3</th>\n      <td>go go go</td>\n      <td>2018</td>\n      <td>wings</td>\n    </tr>\n    <tr>\n      <th>4</th>\n      <td>danger</td>\n      <td>2014</td>\n      <td>too cool for skool</td>\n    </tr>\n    <tr>\n      <th>5</th>\n      <td>n.o</td>\n      <td>2013</td>\n      <td>too cool for skool</td>\n    </tr>\n    <tr>\n      <th>6</th>\n      <td>we are bulletproof:eternal</td>\n      <td>2020</td>\n      <td>map of the soul:7</td>\n    </tr>\n    <tr>\n      <th>7</th>\n      <td>boy in love</td>\n      <td>2013</td>\n      <td>dangerous</td>\n    </tr>\n    <tr>\n      <th>8</th>\n      <td>boy with luv</td>\n      <td>2019</td>\n      <td>map of the soul:persona</td>\n    </tr>\n    <tr>\n      <th>9</th>\n      <td>tear</td>\n      <td>2017</td>\n      <td>love yourself:tear</td>\n    </tr>\n    <tr>\n      <th>10</th>\n      <td>seesaw</td>\n      <td>2017</td>\n      <td>love yourself:her</td>\n    </tr>\n    <tr>\n      <th>11</th>\n      <td>blood,sweat and tears</td>\n      <td>2016</td>\n      <td>wings</td>\n    </tr>\n    <tr>\n      <th>12</th>\n      <td>epiphany</td>\n      <td>2017</td>\n      <td>love yourself</td>\n    </tr>\n    <tr>\n      <th>13</th>\n      <td>serendipity</td>\n      <td>2018</td>\n      <td>love yourself:her</td>\n    </tr>\n    <tr>\n      <th>14</th>\n      <td>euphoria</td>\n      <td>2017</td>\n      <td>love yourself</td>\n    </tr>\n    <tr>\n      <th>15</th>\n      <td>friends</td>\n      <td>2020</td>\n      <td>map of the soul:7</td>\n    </tr>\n  </tbody>\n</table>\n</div>"
     },
     "metadata": {},
     "execution_count": 28
    }
   ],
   "source": [
    "BTS_songs"
   ]
  },
  {
   "cell_type": "code",
   "execution_count": 30,
   "metadata": {},
   "outputs": [
    {
     "output_type": "execute_result",
     "data": {
      "text/plain": [
       "array([2020, 2018, 2014, 2013, 2019, 2017, 2016], dtype=int64)"
      ]
     },
     "metadata": {},
     "execution_count": 30
    }
   ],
   "source": [
    "BTS_songs['Year'].unique()"
   ]
  },
  {
   "cell_type": "code",
   "execution_count": 32,
   "metadata": {},
   "outputs": [
    {
     "output_type": "execute_result",
     "data": {
      "text/plain": [
       "0      True\n",
       "1      True\n",
       "2      True\n",
       "3      True\n",
       "4     False\n",
       "5     False\n",
       "6      True\n",
       "7     False\n",
       "8      True\n",
       "9      True\n",
       "10     True\n",
       "11     True\n",
       "12     True\n",
       "13     True\n",
       "14     True\n",
       "15     True\n",
       "Name: Year, dtype: bool"
      ]
     },
     "metadata": {},
     "execution_count": 32
    }
   ],
   "source": [
    "BTS_songs['Year']>=2015"
   ]
  },
  {
   "cell_type": "code",
   "execution_count": 35,
   "metadata": {},
   "outputs": [],
   "source": [
    "df1=BTS_songs[BTS_songs['Year']>=2017]"
   ]
  },
  {
   "cell_type": "code",
   "execution_count": 36,
   "metadata": {},
   "outputs": [
    {
     "output_type": "execute_result",
     "data": {
      "text/plain": [
       "                           BTS  Year               Album Name\n",
       "0                         moon  2020        map of the soul:7\n",
       "1                           on  2020        map of the soul:7\n",
       "2                    fake love  2018                    wings\n",
       "3                     go go go  2018                    wings\n",
       "6   we are bulletproof:eternal  2020        map of the soul:7\n",
       "8                 boy with luv  2019  map of the soul:persona\n",
       "9                         tear  2017       love yourself:tear\n",
       "10                      seesaw  2017        love yourself:her\n",
       "12                    epiphany  2017            love yourself\n",
       "13                 serendipity  2018        love yourself:her\n",
       "14                    euphoria  2017            love yourself\n",
       "15                     friends  2020        map of the soul:7"
      ],
      "text/html": "<div>\n<style scoped>\n    .dataframe tbody tr th:only-of-type {\n        vertical-align: middle;\n    }\n\n    .dataframe tbody tr th {\n        vertical-align: top;\n    }\n\n    .dataframe thead th {\n        text-align: right;\n    }\n</style>\n<table border=\"1\" class=\"dataframe\">\n  <thead>\n    <tr style=\"text-align: right;\">\n      <th></th>\n      <th>BTS</th>\n      <th>Year</th>\n      <th>Album Name</th>\n    </tr>\n  </thead>\n  <tbody>\n    <tr>\n      <th>0</th>\n      <td>moon</td>\n      <td>2020</td>\n      <td>map of the soul:7</td>\n    </tr>\n    <tr>\n      <th>1</th>\n      <td>on</td>\n      <td>2020</td>\n      <td>map of the soul:7</td>\n    </tr>\n    <tr>\n      <th>2</th>\n      <td>fake love</td>\n      <td>2018</td>\n      <td>wings</td>\n    </tr>\n    <tr>\n      <th>3</th>\n      <td>go go go</td>\n      <td>2018</td>\n      <td>wings</td>\n    </tr>\n    <tr>\n      <th>6</th>\n      <td>we are bulletproof:eternal</td>\n      <td>2020</td>\n      <td>map of the soul:7</td>\n    </tr>\n    <tr>\n      <th>8</th>\n      <td>boy with luv</td>\n      <td>2019</td>\n      <td>map of the soul:persona</td>\n    </tr>\n    <tr>\n      <th>9</th>\n      <td>tear</td>\n      <td>2017</td>\n      <td>love yourself:tear</td>\n    </tr>\n    <tr>\n      <th>10</th>\n      <td>seesaw</td>\n      <td>2017</td>\n      <td>love yourself:her</td>\n    </tr>\n    <tr>\n      <th>12</th>\n      <td>epiphany</td>\n      <td>2017</td>\n      <td>love yourself</td>\n    </tr>\n    <tr>\n      <th>13</th>\n      <td>serendipity</td>\n      <td>2018</td>\n      <td>love yourself:her</td>\n    </tr>\n    <tr>\n      <th>14</th>\n      <td>euphoria</td>\n      <td>2017</td>\n      <td>love yourself</td>\n    </tr>\n    <tr>\n      <th>15</th>\n      <td>friends</td>\n      <td>2020</td>\n      <td>map of the soul:7</td>\n    </tr>\n  </tbody>\n</table>\n</div>"
     },
     "metadata": {},
     "execution_count": 36
    }
   ],
   "source": [
    "df1"
   ]
  },
  {
   "cell_type": "code",
   "execution_count": 38,
   "metadata": {},
   "outputs": [],
   "source": [
    "df1.to_csv('BTS_songs.csv')"
   ]
  },
  {
   "cell_type": "code",
   "execution_count": 39,
   "metadata": {},
   "outputs": [
    {
     "output_type": "execute_result",
     "data": {
      "text/plain": [
       "         BTS  Year          Album Name\n",
       "0       moon  2020   map of the soul:7\n",
       "1         on  2020   map of the soul:7\n",
       "2  fake love  2018               wings\n",
       "3   go go go  2018               wings\n",
       "4     danger  2014  too cool for skool"
      ],
      "text/html": "<div>\n<style scoped>\n    .dataframe tbody tr th:only-of-type {\n        vertical-align: middle;\n    }\n\n    .dataframe tbody tr th {\n        vertical-align: top;\n    }\n\n    .dataframe thead th {\n        text-align: right;\n    }\n</style>\n<table border=\"1\" class=\"dataframe\">\n  <thead>\n    <tr style=\"text-align: right;\">\n      <th></th>\n      <th>BTS</th>\n      <th>Year</th>\n      <th>Album Name</th>\n    </tr>\n  </thead>\n  <tbody>\n    <tr>\n      <th>0</th>\n      <td>moon</td>\n      <td>2020</td>\n      <td>map of the soul:7</td>\n    </tr>\n    <tr>\n      <th>1</th>\n      <td>on</td>\n      <td>2020</td>\n      <td>map of the soul:7</td>\n    </tr>\n    <tr>\n      <th>2</th>\n      <td>fake love</td>\n      <td>2018</td>\n      <td>wings</td>\n    </tr>\n    <tr>\n      <th>3</th>\n      <td>go go go</td>\n      <td>2018</td>\n      <td>wings</td>\n    </tr>\n    <tr>\n      <th>4</th>\n      <td>danger</td>\n      <td>2014</td>\n      <td>too cool for skool</td>\n    </tr>\n  </tbody>\n</table>\n</div>"
     },
     "metadata": {},
     "execution_count": 39
    }
   ],
   "source": [
    "BTS_songs.head()"
   ]
  },
  {
   "cell_type": "code",
   "execution_count": null,
   "metadata": {},
   "outputs": [],
   "source": []
  }
 ]
}