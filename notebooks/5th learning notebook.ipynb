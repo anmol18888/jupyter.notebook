{
 "metadata": {
  "language_info": {
   "codemirror_mode": {
    "name": "ipython",
    "version": 3
   },
   "file_extension": ".py",
   "mimetype": "text/x-python",
   "name": "python",
   "nbconvert_exporter": "python",
   "pygments_lexer": "ipython3",
   "version": "3.8.5-final"
  },
  "orig_nbformat": 2,
  "kernelspec": {
   "name": "python3",
   "display_name": "Python 3",
   "language": "python"
  }
 },
 "nbformat": 4,
 "nbformat_minor": 2,
 "cells": [
  {
   "cell_type": "code",
   "execution_count": 3,
   "metadata": {},
   "outputs": [],
   "source": [
    "# learning conditions and branching in this notebook. first we'll see how a condition works. as we see we have given a value to a.\n",
    "a=6"
   ]
  },
  {
   "cell_type": "code",
   "execution_count": 4,
   "metadata": {},
   "outputs": [
    {
     "output_type": "execute_result",
     "data": {
      "text/plain": [
       "False"
      ]
     },
     "metadata": {},
     "execution_count": 4
    }
   ],
   "source": [
    "# we use == to check whether the condition sastifies or not if it does then the result would be true if bnot then false.\n",
    "a==7"
   ]
  },
  {
   "cell_type": "code",
   "execution_count": 5,
   "metadata": {},
   "outputs": [
    {
     "output_type": "execute_result",
     "data": {
      "text/plain": [
       "True"
      ]
     },
     "metadata": {},
     "execution_count": 5
    }
   ],
   "source": [
    "# in this one we'll put a ==6 to see the result is true or not\n",
    "a==6"
   ]
  },
  {
   "cell_type": "code",
   "execution_count": 14,
   "metadata": {},
   "outputs": [
    {
     "output_type": "execute_result",
     "data": {
      "text/plain": [
       "True"
      ]
     },
     "metadata": {},
     "execution_count": 14
    }
   ],
   "source": [
    "# now let us try conditions with inequality\n",
    "a>20\n"
   ]
  },
  {
   "cell_type": "code",
   "execution_count": 15,
   "metadata": {},
   "outputs": [
    {
     "output_type": "execute_result",
     "data": {
      "text/plain": [
       "True"
      ]
     },
     "metadata": {},
     "execution_count": 15
    }
   ],
   "source": [
    "a==30"
   ]
  },
  {
   "cell_type": "code",
   "execution_count": 16,
   "metadata": {},
   "outputs": [
    {
     "output_type": "execute_result",
     "data": {
      "text/plain": [
       "False"
      ]
     },
     "metadata": {},
     "execution_count": 16
    }
   ],
   "source": [
    "a==10"
   ]
  },
  {
   "cell_type": "code",
   "execution_count": 17,
   "metadata": {},
   "outputs": [
    {
     "output_type": "error",
     "ename": "NameError",
     "evalue": "name 'b' is not defined",
     "traceback": [
      "\u001b[1;31m---------------------------------------------------------------------------\u001b[0m",
      "\u001b[1;31mNameError\u001b[0m                                 Traceback (most recent call last)",
      "\u001b[1;32m<ipython-input-17-e360fd9ed8e3>\u001b[0m in \u001b[0;36m<module>\u001b[1;34m\u001b[0m\n\u001b[1;32m----> 1\u001b[1;33m \u001b[0mb\u001b[0m\u001b[1;33m!=\u001b[0m\u001b[1;36m10\u001b[0m\u001b[1;33m\u001b[0m\u001b[1;33m\u001b[0m\u001b[0m\n\u001b[0m",
      "\u001b[1;31mNameError\u001b[0m: name 'b' is not defined"
     ]
    }
   ],
   "source": [
    "b!=10"
   ]
  },
  {
   "cell_type": "code",
   "execution_count": 19,
   "metadata": {},
   "outputs": [
    {
     "output_type": "execute_result",
     "data": {
      "text/plain": [
       "False"
      ]
     },
     "metadata": {},
     "execution_count": 19
    }
   ],
   "source": [
    "# comparing something other than the numbers\n",
    "'ac/dc'=='mj'"
   ]
  },
  {
   "cell_type": "code",
   "execution_count": 20,
   "metadata": {},
   "outputs": [
    {
     "output_type": "execute_result",
     "data": {
      "text/plain": [
       "True"
      ]
     },
     "metadata": {},
     "execution_count": 20
    }
   ],
   "source": [
    "'ac/dc'!='mj'"
   ]
  },
  {
   "cell_type": "code",
   "execution_count": 33,
   "metadata": {},
   "outputs": [
    {
     "output_type": "stream",
     "name": "stdout",
     "text": [
      "move on\n"
     ]
    }
   ],
   "source": [
    " # tring branching\n",
    " age =10\n",
    " if(age>18):\n",
    "         print('you may enter')\n",
    " print('move on')"
   ]
  },
  {
   "cell_type": "code",
   "execution_count": 34,
   "metadata": {},
   "outputs": [
    {
     "output_type": "stream",
     "name": "stdout",
     "text": [
      "you can enter\nmove on\n"
     ]
    }
   ],
   "source": [
    "age=30\n",
    "if(age>18):\n",
    "    print('you can enter')\n",
    "print('move on') "
   ]
  },
  {
   "cell_type": "code",
   "execution_count": 36,
   "metadata": {},
   "outputs": [
    {
     "output_type": "stream",
     "name": "stdout",
     "text": [
      "you can enter\nnow move on\n"
     ]
    }
   ],
   "source": [
    "#trying else statement in branching\n",
    "age =20\n",
    "if(age>18):\n",
    "    print('you can enter')\n",
    "    print('now move on')\n",
    "else:\n",
    "    print('go visit the meat loaf shop and have a meat loaf')\n",
    "    print('after having it, time to move on')"
   ]
  },
  {
   "cell_type": "code",
   "execution_count": 37,
   "metadata": {},
   "outputs": [
    {
     "output_type": "stream",
     "name": "stdout",
     "text": [
      "go visit the meat loaf shop and have a meat loaf\nafter having it, time to move on\n"
     ]
    }
   ],
   "source": [
    "age =13\n",
    "if(age>18):\n",
    "    print('you can enter')\n",
    "    print('now move on')\n",
    "else:\n",
    "    print('go visit the meat loaf shop and have a meat loaf')\n",
    "    print('after having it, time to move on')"
   ]
  },
  {
   "cell_type": "code",
   "execution_count": 38,
   "metadata": {},
   "outputs": [
    {
     "output_type": "stream",
     "name": "stdout",
     "text": [
      "go visit the meat loaf shop and have a meat loaf\nafter having it, time to move on\n"
     ]
    }
   ],
   "source": [
    "age=18\n",
    "if(age>18):\n",
    "    print('you can enter')\n",
    "    print('now move on')\n",
    "else:\n",
    "    print('go visit the meat loaf shop and have a meat loaf')\n",
    "    print('after having it, time to move on')"
   ]
  },
  {
   "cell_type": "code",
   "execution_count": 40,
   "metadata": {},
   "outputs": [
    {
     "output_type": "stream",
     "name": "stdout",
     "text": [
      "go see pink floyyd\nnow move on\n"
     ]
    }
   ],
   "source": [
    "# trying the elif statement in branching\n",
    "age =18\n",
    "if(age>18):\n",
    "    print('you can enter')\n",
    "elif(age==18):\n",
    "    print('go see pink floyyd')\n",
    "else:\n",
    "    print('go see meat loaf')\n",
    "\n",
    "print('now move on') "
   ]
  },
  {
   "cell_type": "code",
   "execution_count": 42,
   "metadata": {},
   "outputs": [
    {
     "output_type": "stream",
     "name": "stdout",
     "text": [
      "you can enter\nnow move on\n"
     ]
    }
   ],
   "source": [
    "age =20\n",
    "if(age>18):\n",
    "    print('you can enter')\n",
    "elif(age==18):\n",
    "    print('go see pink floyyd')\n",
    "else:\n",
    "    print('go see meat loaf')\n",
    "\n",
    "print(\n",
    "    \n",
    "    'now move on') "
   ]
  },
  {
   "cell_type": "code",
   "execution_count": 43,
   "metadata": {},
   "outputs": [
    {
     "output_type": "stream",
     "name": "stdout",
     "text": [
      "go see meat loaf\nnow move on\n"
     ]
    }
   ],
   "source": [
    "age=12\n",
    "if(age>18):\n",
    "    print('you can enter')\n",
    "elif(age==18):\n",
    "    print('go see pink floyyd')\n",
    "else:\n",
    "    print('go see meat loaf')\n",
    "\n",
    "print('now move on') "
   ]
  },
  {
   "cell_type": "code",
   "execution_count": 44,
   "metadata": {},
   "outputs": [
    {
     "output_type": "execute_result",
     "data": {
      "text/plain": [
       "False"
      ]
     },
     "metadata": {},
     "execution_count": 44
    }
   ],
   "source": [
    "# trying the first logic oprator NOT\n",
    "not(1)"
   ]
  },
  {
   "cell_type": "code",
   "execution_count": 45,
   "metadata": {},
   "outputs": [
    {
     "output_type": "execute_result",
     "data": {
      "text/plain": [
       "True"
      ]
     },
     "metadata": {},
     "execution_count": 45
    }
   ],
   "source": [
    "not(0)"
   ]
  },
  {
   "cell_type": "code",
   "execution_count": 47,
   "metadata": {},
   "outputs": [
    {
     "output_type": "execute_result",
     "data": {
      "text/plain": [
       "False"
      ]
     },
     "metadata": {},
     "execution_count": 47
    }
   ],
   "source": [
    "not(True)"
   ]
  },
  {
   "cell_type": "code",
   "execution_count": 48,
   "metadata": {},
   "outputs": [
    {
     "output_type": "execute_result",
     "data": {
      "text/plain": [
       "True"
      ]
     },
     "metadata": {},
     "execution_count": 48
    }
   ],
   "source": [
    "not(False)"
   ]
  },
  {
   "cell_type": "code",
   "execution_count": 50,
   "metadata": {},
   "outputs": [
    {
     "output_type": "stream",
     "name": "stdout",
     "text": [
      "yeah i did it in my 20s for sure\n"
     ]
    }
   ],
   "source": [
    "# tring the secong logic operator OR\n",
    "age=25\n",
    "if(age>30)or(age<20):\n",
    "    print('i am sure i didnt do it in my 20s')\n",
    "else:\n",
    "    print('yeah i did it in my 20s for sure')"
   ]
  },
  {
   "cell_type": "code",
   "execution_count": 52,
   "metadata": {},
   "outputs": [
    {
     "output_type": "stream",
     "name": "stdout",
     "text": [
      "i am sure i didnt do it in my 20s\n"
     ]
    }
   ],
   "source": [
    "age=10\n",
    "if(age>30)or(age<20):\n",
    "    print('i am sure i didnt do it in my 20s')\n",
    "else:\n",
    "    print('yeah i did it in my 20s for sure')"
   ]
  },
  {
   "cell_type": "code",
   "execution_count": 53,
   "metadata": {},
   "outputs": [
    {
     "output_type": "stream",
     "name": "stdout",
     "text": [
      "i am sure i didnt do it in my 20s\n"
     ]
    }
   ],
   "source": [
    "age=31\n",
    "if(age>30)or(age<20):\n",
    "    print('i am sure i didnt do it in my 20s')\n",
    "else:\n",
    "    print('yeah i did it in my 20s for sure')"
   ]
  },
  {
   "cell_type": "code",
   "execution_count": 54,
   "metadata": {},
   "outputs": [
    {
     "output_type": "stream",
     "name": "stdout",
     "text": [
      "yeah i did it in my 20s for sure\n"
     ]
    }
   ],
   "source": [
    "age=30\n",
    "if(age>30)or(age<20):\n",
    "    print('i am sure i didnt do it in my 20s')\n",
    "else:\n",
    "    print('yeah i did it in my 20s for sure')"
   ]
  },
  {
   "cell_type": "code",
   "execution_count": 55,
   "metadata": {},
   "outputs": [
    {
     "output_type": "execute_result",
     "data": {
      "text/plain": [
       "True"
      ]
     },
     "metadata": {},
     "execution_count": 55
    }
   ],
   "source": [
    "a= True\n",
    "b= False\n",
    "a or b"
   ]
  },
  {
   "cell_type": "code",
   "execution_count": 56,
   "metadata": {},
   "outputs": [
    {
     "output_type": "execute_result",
     "data": {
      "text/plain": [
       "True"
      ]
     },
     "metadata": {},
     "execution_count": 56
    }
   ],
   "source": [
    "True or True"
   ]
  },
  {
   "cell_type": "code",
   "execution_count": 57,
   "metadata": {},
   "outputs": [
    {
     "output_type": "execute_result",
     "data": {
      "text/plain": [
       "False"
      ]
     },
     "metadata": {},
     "execution_count": 57
    }
   ],
   "source": [
    "False or False"
   ]
  },
  {
   "cell_type": "code",
   "execution_count": 58,
   "metadata": {},
   "outputs": [
    {
     "output_type": "execute_result",
     "data": {
      "text/plain": [
       "True"
      ]
     },
     "metadata": {},
     "execution_count": 58
    }
   ],
   "source": [
    "False or True"
   ]
  },
  {
   "cell_type": "code",
   "execution_count": 59,
   "metadata": {},
   "outputs": [
    {
     "output_type": "stream",
     "name": "stdout",
     "text": [
      "i definitel did this in my 20s or 30s\n"
     ]
    }
   ],
   "source": [
    "# third logic operator: AND applied using &\n",
    "age=30\n",
    "if(age>20)and(age<40):\n",
    "    print('i definitel did this in my 20s or 30s')\n",
    "else:\n",
    "    print('i think i didnt do that yet')\n"
   ]
  },
  {
   "cell_type": "code",
   "execution_count": 60,
   "metadata": {},
   "outputs": [
    {
     "output_type": "execute_result",
     "data": {
      "text/plain": [
       "False"
      ]
     },
     "metadata": {},
     "execution_count": 60
    }
   ],
   "source": [
    "True and False"
   ]
  },
  {
   "cell_type": "code",
   "execution_count": 61,
   "metadata": {},
   "outputs": [
    {
     "output_type": "execute_result",
     "data": {
      "text/plain": [
       "False"
      ]
     },
     "metadata": {},
     "execution_count": 61
    }
   ],
   "source": [
    "False and True"
   ]
  },
  {
   "cell_type": "code",
   "execution_count": 62,
   "metadata": {},
   "outputs": [
    {
     "output_type": "execute_result",
     "data": {
      "text/plain": [
       "False"
      ]
     },
     "metadata": {},
     "execution_count": 62
    }
   ],
   "source": [
    "False and False"
   ]
  },
  {
   "cell_type": "code",
   "execution_count": 63,
   "metadata": {},
   "outputs": [
    {
     "output_type": "execute_result",
     "data": {
      "text/plain": [
       "True"
      ]
     },
     "metadata": {},
     "execution_count": 63
    }
   ],
   "source": [
    "True and True"
   ]
  },
  {
   "source": [
    "## _Hope you like this notebook of mine showing various ways to use conditions, branching and logic operations._"
   ],
   "cell_type": "markdown",
   "metadata": {}
  }
 ]
}