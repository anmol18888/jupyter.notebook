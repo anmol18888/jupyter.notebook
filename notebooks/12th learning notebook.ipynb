{
 "metadata": {
  "language_info": {
   "codemirror_mode": {
    "name": "ipython",
    "version": 3
   },
   "file_extension": ".py",
   "mimetype": "text/x-python",
   "name": "python",
   "nbconvert_exporter": "python",
   "pygments_lexer": "ipython3",
   "version": "3.8.5-final"
  },
  "orig_nbformat": 2,
  "kernelspec": {
   "name": "python3",
   "display_name": "Python 3.8.5 32-bit (conda)",
   "metadata": {
    "interpreter": {
     "hash": "b3ba2566441a7c06988d0923437866b63cedc61552a5af99d1f4fb67d367b25f"
    }
   }
  }
 },
 "nbformat": 4,
 "nbformat_minor": 2,
 "cells": [
  {
   "source": [
    "# _Trying the webscraping using html in Python_"
   ],
   "cell_type": "markdown",
   "metadata": {}
  },
  {
   "cell_type": "code",
   "execution_count": 1,
   "metadata": {},
   "outputs": [],
   "source": [
    "from bs4 import BeautifulSoup"
   ]
  },
  {
   "cell_type": "code",
   "execution_count": 3,
   "metadata": {},
   "outputs": [],
   "source": [
    "html= \"<! DOCTYPE html><html><head><title> most paid nba players</title></head><body><h3><b id='boldest'>Lebron James</b></h3><p> Salary: $9,000,000</p><h3>Stephen Curry</h3><p>Salary: $85,000,000</p><h3>Kvein Durant</h3><p>Salary: $75,200,000</p></body></html>\"\n",
    "soup= BeautifulSoup(html, 'html5lib')"
   ]
  },
  {
   "cell_type": "code",
   "execution_count": 4,
   "metadata": {},
   "outputs": [
    {
     "output_type": "execute_result",
     "data": {
      "text/plain": [
       "<!-- DOCTYPE html--><html><head><title> most paid nba players</title></head><body><h3><b id=\"boldest\">Lebron James</b></h3><p> Salary: $9,000,000</p><h3>Stephen Curry</h3><p>Salary: $85,000,000</p><h3>Kvein Durant</h3><p>Salary: $75,200,000</p></body></html>"
      ]
     },
     "metadata": {},
     "execution_count": 4
    }
   ],
   "source": [
    "soup"
   ]
  },
  {
   "cell_type": "code",
   "execution_count": 5,
   "metadata": {},
   "outputs": [],
   "source": [
    "tag_object=soup.title"
   ]
  },
  {
   "cell_type": "code",
   "execution_count": 6,
   "metadata": {},
   "outputs": [
    {
     "output_type": "execute_result",
     "data": {
      "text/plain": [
       "<title> most paid nba players</title>"
      ]
     },
     "metadata": {},
     "execution_count": 6
    }
   ],
   "source": [
    "tag_object"
   ]
  },
  {
   "cell_type": "code",
   "execution_count": 7,
   "metadata": {},
   "outputs": [],
   "source": [
    "tag_name=soup.h3"
   ]
  },
  {
   "cell_type": "code",
   "execution_count": 8,
   "metadata": {},
   "outputs": [
    {
     "output_type": "execute_result",
     "data": {
      "text/plain": [
       "<h3><b id=\"boldest\">Lebron James</b></h3>"
      ]
     },
     "metadata": {},
     "execution_count": 8
    }
   ],
   "source": [
    "tag_name"
   ]
  },
  {
   "cell_type": "code",
   "execution_count": 9,
   "metadata": {},
   "outputs": [],
   "source": [
    "tag_parent=tag_name.parent"
   ]
  },
  {
   "cell_type": "code",
   "execution_count": 10,
   "metadata": {},
   "outputs": [
    {
     "output_type": "execute_result",
     "data": {
      "text/plain": [
       "<body><h3><b id=\"boldest\">Lebron James</b></h3><p> Salary: $9,000,000</p><h3>Stephen Curry</h3><p>Salary: $85,000,000</p><h3>Kvein Durant</h3><p>Salary: $75,200,000</p></body>"
      ]
     },
     "metadata": {},
     "execution_count": 10
    }
   ],
   "source": [
    "tag_parent"
   ]
  },
  {
   "cell_type": "code",
   "execution_count": 11,
   "metadata": {},
   "outputs": [],
   "source": [
    "tag_sibling = tag_name.next_siblings"
   ]
  },
  {
   "cell_type": "code",
   "execution_count": 12,
   "metadata": {},
   "outputs": [
    {
     "output_type": "execute_result",
     "data": {
      "text/plain": [
       "<generator object PageElement.next_siblings at 0x05246878>"
      ]
     },
     "metadata": {},
     "execution_count": 12
    }
   ],
   "source": [
    "tag_sibling"
   ]
  },
  {
   "cell_type": "code",
   "execution_count": 13,
   "metadata": {},
   "outputs": [],
   "source": [
    "tag_sibling2=tag_name.next_sibling"
   ]
  },
  {
   "cell_type": "code",
   "execution_count": 14,
   "metadata": {},
   "outputs": [
    {
     "output_type": "execute_result",
     "data": {
      "text/plain": [
       "<p> Salary: $9,000,000</p>"
      ]
     },
     "metadata": {},
     "execution_count": 14
    }
   ],
   "source": [
    "tag_sibling2"
   ]
  },
  {
   "cell_type": "code",
   "execution_count": 15,
   "metadata": {},
   "outputs": [
    {
     "output_type": "execute_result",
     "data": {
      "text/plain": [
       "{}"
      ]
     },
     "metadata": {},
     "execution_count": 15
    }
   ],
   "source": [
    "tag_name.attrs"
   ]
  },
  {
   "cell_type": "code",
   "execution_count": 16,
   "metadata": {},
   "outputs": [
    {
     "output_type": "execute_result",
     "data": {
      "text/plain": [
       "'Lebron James'"
      ]
     },
     "metadata": {},
     "execution_count": 16
    }
   ],
   "source": [
    "tag_name.string"
   ]
  },
  {
   "cell_type": "code",
   "execution_count": 17,
   "metadata": {},
   "outputs": [],
   "source": [
    "html1= \"<table><tr><td>pizza place</td><td>orders</td><td>slices</td></tr><tr><td>Domino'z</td><td>10</td><td>120</td></tr><tr><td>Little Ceasers</td><td>12</td><td>144</td></tr></table>\"\n",
    "table= BeautifulSoup(html1,'html5lib')"
   ]
  },
  {
   "cell_type": "code",
   "execution_count": 18,
   "metadata": {},
   "outputs": [
    {
     "output_type": "execute_result",
     "data": {
      "text/plain": [
       "<html><head></head><body><table><tbody><tr><td>pizza place</td><td>orders</td><td>slices</td></tr><tr><td>Domino'z</td><td>10</td><td>120</td></tr><tr><td>Little Ceasers</td><td>12</td><td>144</td></tr></tbody></table></body></html>"
      ]
     },
     "metadata": {},
     "execution_count": 18
    }
   ],
   "source": [
    "table"
   ]
  },
  {
   "cell_type": "code",
   "execution_count": 19,
   "metadata": {},
   "outputs": [
    {
     "output_type": "execute_result",
     "data": {
      "text/plain": [
       "[<tr><td>pizza place</td><td>orders</td><td>slices</td></tr>,\n",
       " <tr><td>Domino'z</td><td>10</td><td>120</td></tr>,\n",
       " <tr><td>Little Ceasers</td><td>12</td><td>144</td></tr>]"
      ]
     },
     "metadata": {},
     "execution_count": 19
    }
   ],
   "source": [
    "table_row= table.find_all(name='tr')\n",
    "table_row"
   ]
  },
  {
   "cell_type": "code",
   "execution_count": 20,
   "metadata": {},
   "outputs": [
    {
     "output_type": "execute_result",
     "data": {
      "text/plain": [
       "<tr><td>pizza place</td><td>orders</td><td>slices</td></tr>"
      ]
     },
     "metadata": {},
     "execution_count": 20
    }
   ],
   "source": [
    "first_row=table_row[0]\n",
    "first_row"
   ]
  },
  {
   "cell_type": "code",
   "execution_count": 21,
   "metadata": {},
   "outputs": [
    {
     "output_type": "execute_result",
     "data": {
      "text/plain": [
       "<td>pizza place</td>"
      ]
     },
     "metadata": {},
     "execution_count": 21
    }
   ],
   "source": [
    "first_row.td"
   ]
  },
  {
   "cell_type": "code",
   "execution_count": 22,
   "metadata": {},
   "outputs": [
    {
     "output_type": "stream",
     "name": "stdout",
     "text": [
      "row 0\ncolumn 0 cell <td>pizza place</td>\ncolumn 1 cell <td>orders</td>\ncolumn 2 cell <td>slices</td>\nrow 1\ncolumn 0 cell <td>Domino'z</td>\ncolumn 1 cell <td>10</td>\ncolumn 2 cell <td>120</td>\nrow 2\ncolumn 0 cell <td>Little Ceasers</td>\ncolumn 1 cell <td>12</td>\ncolumn 2 cell <td>144</td>\n"
     ]
    }
   ],
   "source": [
    "for i,row in enumerate(table_row):\n",
    "\n",
    "    print('row',i)\n",
    "    cells=row.find_all('td')\n",
    "\n",
    "    for j,cell in enumerate(cells):\n",
    "        print('column',j,'cell',cell)\n"
   ]
  },
  {
   "cell_type": "code",
   "execution_count": 1,
   "metadata": {},
   "outputs": [
    {
     "output_type": "stream",
     "name": "stdout",
     "text": [
      "Collecting bs4\n  Downloading bs4-0.0.1.tar.gz (1.1 kB)\nRequirement already satisfied: beautifulsoup4 in c:\\programdata\\anaconda3\\lib\\site-packages (from bs4) (4.9.3)\nRequirement already satisfied: soupsieve>1.2; python_version >= \"3.0\" in c:\\programdata\\anaconda3\\lib\\site-packages (from beautifulsoup4->bs4) (2.0.1)\nBuilding wheels for collected packages: bs4\n  Building wheel for bs4 (setup.py): started\n  Building wheel for bs4 (setup.py): finished with status 'done'\n  Created wheel for bs4: filename=bs4-0.0.1-py3-none-any.whl size=1277 sha256=197a3e91e5812cd1c7860b1cdeef89f68d1a764e0c283aeb1954206fc34fc40a\n  Stored in directory: c:\\users\\om\\appdata\\local\\pip\\cache\\wheels\\75\\78\\21\\68b124549c9bdc94f822c02fb9aa3578a669843f9767776bca\nSuccessfully built bs4\nInstalling collected packages: bs4\nSuccessfully installed bs4-0.0.1\n"
     ]
    }
   ],
   "source": [
    "!pip install bs4\n",
    "#!pip install requests"
   ]
  },
  {
   "cell_type": "code",
   "execution_count": 2,
   "metadata": {},
   "outputs": [],
   "source": [
    "from bs4 import BeautifulSoup # this module helps in web scrapping.\n",
    "import requests  # this module helps us to download a web page"
   ]
  },
  {
   "cell_type": "code",
   "execution_count": 3,
   "metadata": {},
   "outputs": [
    {
     "output_type": "display_data",
     "data": {
      "text/plain": "<IPython.core.display.HTML object>",
      "text/html": "<!DOCTYPE html>\n<html>\n<head>\n<title>Page Title</title>\n</head>\n<body>\n<h3><b id='boldest'>Lebron James</b></h3>\n<p> Salary: $ 92,000,000 </p>\n<h3> Stephen Curry</h3>\n<p> Salary: $85,000, 000 </p>\n<h3> Kevin Durant </h3>\n<p> Salary: $73,200, 000</p>\n</body>\n</html>\n"
     },
     "metadata": {}
    }
   ],
   "source": [
    "%%html\n",
    "<!DOCTYPE html>\n",
    "<html>\n",
    "<head>\n",
    "<title>Page Title</title>\n",
    "</head>\n",
    "<body>\n",
    "<h3><b id='boldest'>Lebron James</b></h3>\n",
    "<p> Salary: $ 92,000,000 </p>\n",
    "<h3> Stephen Curry</h3>\n",
    "<p> Salary: $85,000, 000 </p>\n",
    "<h3> Kevin Durant </h3>\n",
    "<p> Salary: $73,200, 000</p>\n",
    "</body>\n",
    "</html>"
   ]
  },
  {
   "cell_type": "code",
   "execution_count": 4,
   "metadata": {},
   "outputs": [],
   "source": [
    "#We can store it as a string in the variable HTML:\n",
    "html=\"<!DOCTYPE html><html><head><title>Page Title</title></head><body><h3><b id='boldest'>Lebron James</b></h3><p> Salary: $ 92,000,000 </p><h3> Stephen Curry</h3><p> Salary: $85,000, 000 </p><h3> Kevin Durant </h3><p> Salary: $73,200, 000</p></body></html>\""
   ]
  },
  {
   "cell_type": "code",
   "execution_count": 5,
   "metadata": {},
   "outputs": [],
   "source": [
    "soup = BeautifulSoup(html, 'html5lib')"
   ]
  },
  {
   "cell_type": "code",
   "execution_count": 6,
   "metadata": {},
   "outputs": [
    {
     "output_type": "stream",
     "name": "stdout",
     "text": [
      "<!DOCTYPE html>\n<html>\n <head>\n  <title>\n   Page Title\n  </title>\n </head>\n <body>\n  <h3>\n   <b id=\"boldest\">\n    Lebron James\n   </b>\n  </h3>\n  <p>\n   Salary: $ 92,000,000\n  </p>\n  <h3>\n   Stephen Curry\n  </h3>\n  <p>\n   Salary: $85,000, 000\n  </p>\n  <h3>\n   Kevin Durant\n  </h3>\n  <p>\n   Salary: $73,200, 000\n  </p>\n </body>\n</html>\n"
     ]
    }
   ],
   "source": [
    "# We can use the method prettify() to display the HTML in the nested structure:\n",
    "print(soup.prettify())"
   ]
  },
  {
   "cell_type": "code",
   "execution_count": 7,
   "metadata": {},
   "outputs": [
    {
     "output_type": "stream",
     "name": "stdout",
     "text": [
      "tag object: <title>Page Title</title>\n"
     ]
    }
   ],
   "source": [
    "tag_object=soup.title\n",
    "print(\"tag object:\",tag_object)"
   ]
  },
  {
   "source": [
    "we can see the tag type <code>bs4.element.Tag</code>"
   ],
   "cell_type": "markdown",
   "metadata": {}
  },
  {
   "cell_type": "code",
   "execution_count": 8,
   "metadata": {},
   "outputs": [
    {
     "output_type": "stream",
     "name": "stdout",
     "text": [
      "tag object type: <class 'bs4.element.Tag'>\n"
     ]
    }
   ],
   "source": [
    "print(\"tag object type:\",type(tag_object))"
   ]
  },
  {
   "cell_type": "code",
   "execution_count": 9,
   "metadata": {},
   "outputs": [
    {
     "output_type": "execute_result",
     "data": {
      "text/plain": [
       "<h3><b id=\"boldest\">Lebron James</b></h3>"
      ]
     },
     "metadata": {},
     "execution_count": 9
    }
   ],
   "source": [
    "tag_object=soup.h3\n",
    "tag_object"
   ]
  },
  {
   "source": [
    "As stated above the Tag object is a tree of objects we can access the child of the tag or navigate down the branch as follows:"
   ],
   "cell_type": "markdown",
   "metadata": {}
  },
  {
   "cell_type": "code",
   "execution_count": 10,
   "metadata": {},
   "outputs": [
    {
     "output_type": "execute_result",
     "data": {
      "text/plain": [
       "<b id=\"boldest\">Lebron James</b>"
      ]
     },
     "metadata": {},
     "execution_count": 10
    }
   ],
   "source": [
    "tag_child =tag_object.b\n",
    "tag_child"
   ]
  },
  {
   "cell_type": "code",
   "execution_count": 11,
   "metadata": {},
   "outputs": [
    {
     "output_type": "execute_result",
     "data": {
      "text/plain": [
       "<h3><b id=\"boldest\">Lebron James</b></h3>"
      ]
     },
     "metadata": {},
     "execution_count": 11
    }
   ],
   "source": [
    "parent_tag=tag_child.parent\n",
    "parent_tag"
   ]
  },
  {
   "cell_type": "code",
   "execution_count": 12,
   "metadata": {},
   "outputs": [
    {
     "output_type": "execute_result",
     "data": {
      "text/plain": [
       "<h3><b id=\"boldest\">Lebron James</b></h3>"
      ]
     },
     "metadata": {},
     "execution_count": 12
    }
   ],
   "source": [
    "tag_object"
   ]
  },
  {
   "cell_type": "code",
   "execution_count": 13,
   "metadata": {},
   "outputs": [
    {
     "output_type": "execute_result",
     "data": {
      "text/plain": [
       "<body><h3><b id=\"boldest\">Lebron James</b></h3><p> Salary: $ 92,000,000 </p><h3> Stephen Curry</h3><p> Salary: $85,000, 000 </p><h3> Kevin Durant </h3><p> Salary: $73,200, 000</p></body>"
      ]
     },
     "metadata": {},
     "execution_count": 13
    }
   ],
   "source": [
    "# tag_object parent is the body element.\n",
    "tag_object.parent"
   ]
  },
  {
   "cell_type": "code",
   "execution_count": 14,
   "metadata": {},
   "outputs": [
    {
     "output_type": "execute_result",
     "data": {
      "text/plain": [
       "<p> Salary: $ 92,000,000 </p>"
      ]
     },
     "metadata": {},
     "execution_count": 14
    }
   ],
   "source": [
    "sibling_1=tag_object.next_sibling\n",
    "sibling_1"
   ]
  },
  {
   "cell_type": "code",
   "execution_count": 15,
   "metadata": {},
   "outputs": [
    {
     "output_type": "execute_result",
     "data": {
      "text/plain": [
       "<h3> Stephen Curry</h3>"
      ]
     },
     "metadata": {},
     "execution_count": 15
    }
   ],
   "source": [
    "sibling_2=sibling_1.next_sibling\n",
    "sibling_2"
   ]
  },
  {
   "cell_type": "code",
   "execution_count": 16,
   "metadata": {},
   "outputs": [
    {
     "output_type": "execute_result",
     "data": {
      "text/plain": [
       "'boldest'"
      ]
     },
     "metadata": {},
     "execution_count": 16
    }
   ],
   "source": [
    "tag_child['id']"
   ]
  },
  {
   "cell_type": "code",
   "execution_count": 17,
   "metadata": {},
   "outputs": [
    {
     "output_type": "execute_result",
     "data": {
      "text/plain": [
       "{'id': 'boldest'}"
      ]
     },
     "metadata": {},
     "execution_count": 17
    }
   ],
   "source": [
    "# You can access that dictionary directly as attrs:\n",
    "tag_child.attrs"
   ]
  },
  {
   "cell_type": "code",
   "execution_count": 18,
   "metadata": {},
   "outputs": [
    {
     "output_type": "execute_result",
     "data": {
      "text/plain": [
       "'boldest'"
      ]
     },
     "metadata": {},
     "execution_count": 18
    }
   ],
   "source": [
    "tag_child.get('id')"
   ]
  },
  {
   "source": [
    "### Navigable String\n"
   ],
   "cell_type": "markdown",
   "metadata": {}
  },
  {
   "cell_type": "code",
   "execution_count": 19,
   "metadata": {},
   "outputs": [
    {
     "output_type": "execute_result",
     "data": {
      "text/plain": [
       "'Lebron James'"
      ]
     },
     "metadata": {},
     "execution_count": 19
    }
   ],
   "source": [
    "tag_string=tag_child.string\n",
    "tag_string"
   ]
  },
  {
   "cell_type": "code",
   "execution_count": 20,
   "metadata": {},
   "outputs": [
    {
     "output_type": "execute_result",
     "data": {
      "text/plain": [
       "bs4.element.NavigableString"
      ]
     },
     "metadata": {},
     "execution_count": 20
    }
   ],
   "source": [
    "type(tag_string)"
   ]
  },
  {
   "cell_type": "code",
   "execution_count": 21,
   "metadata": {},
   "outputs": [
    {
     "output_type": "execute_result",
     "data": {
      "text/plain": [
       "'Lebron James'"
      ]
     },
     "metadata": {},
     "execution_count": 21
    }
   ],
   "source": [
    "unicode_string = str(tag_string)\n",
    "unicode_string"
   ]
  },
  {
   "source": [
    "#### Filters allow you to find complex patterns, the simplest filter is a string. In this section we will pass a string to a different filter method and Beautiful Soup will perform a match against that exact string. Consider the following HTML of rocket launchs:"
   ],
   "cell_type": "markdown",
   "metadata": {}
  },
  {
   "cell_type": "code",
   "execution_count": 22,
   "metadata": {},
   "outputs": [
    {
     "output_type": "display_data",
     "data": {
      "text/plain": "<IPython.core.display.HTML object>",
      "text/html": "<table>\n  <tr>\n    <td id='flight' >Flight No</td>\n    <td>Launch site</td> \n    <td>Payload mass</td>\n   </tr>\n  <tr> \n    <td>1</td>\n    <td><a href='https://en.wikipedia.org/wiki/Florida'>Florida</a></td>\n    <td>300 kg</td>\n  </tr>\n  <tr>\n    <td>2</td>\n    <td><a href='https://en.wikipedia.org/wiki/Texas'>Texas</a></td>\n    <td>94 kg</td>\n  </tr>\n  <tr>\n    <td>3</td>\n    <td><a href='https://en.wikipedia.org/wiki/Florida'>Florida<a> </td>\n    <td>80 kg</td>\n  </tr>\n</table>\n"
     },
     "metadata": {}
    }
   ],
   "source": [
    "%%html\n",
    "<table>\n",
    "  <tr>\n",
    "    <td id='flight' >Flight No</td>\n",
    "    <td>Launch site</td> \n",
    "    <td>Payload mass</td>\n",
    "   </tr>\n",
    "  <tr> \n",
    "    <td>1</td>\n",
    "    <td><a href='https://en.wikipedia.org/wiki/Florida'>Florida</a></td>\n",
    "    <td>300 kg</td>\n",
    "  </tr>\n",
    "  <tr>\n",
    "    <td>2</td>\n",
    "    <td><a href='https://en.wikipedia.org/wiki/Texas'>Texas</a></td>\n",
    "    <td>94 kg</td>\n",
    "  </tr>\n",
    "  <tr>\n",
    "    <td>3</td>\n",
    "    <td><a href='https://en.wikipedia.org/wiki/Florida'>Florida<a> </td>\n",
    "    <td>80 kg</td>\n",
    "  </tr>\n",
    "</table>"
   ]
  },
  {
   "cell_type": "code",
   "execution_count": 23,
   "metadata": {},
   "outputs": [],
   "source": [
    "table=\"<table><tr><td id='flight'>Flight No</td><td>Launch site</td> <td>Payload mass</td></tr><tr> <td>1</td><td><a href='https://en.wikipedia.org/wiki/Florida'>Florida<a></td><td>300 kg</td></tr><tr><td>2</td><td><a href='https://en.wikipedia.org/wiki/Texas'>Texas</a></td><td>94 kg</td></tr><tr><td>3</td><td><a href='https://en.wikipedia.org/wiki/Florida'>Florida<a> </td><td>80 kg</td></tr></table>\""
   ]
  },
  {
   "cell_type": "code",
   "execution_count": 24,
   "metadata": {},
   "outputs": [],
   "source": [
    "table_bs = BeautifulSoup(table, 'html5lib')"
   ]
  },
  {
   "cell_type": "code",
   "execution_count": 25,
   "metadata": {},
   "outputs": [
    {
     "output_type": "execute_result",
     "data": {
      "text/plain": [
       "[<tr><td id=\"flight\">Flight No</td><td>Launch site</td> <td>Payload mass</td></tr>,\n",
       " <tr> <td>1</td><td><a href=\"https://en.wikipedia.org/wiki/Florida\">Florida</a><a></a></td><td>300 kg</td></tr>,\n",
       " <tr><td>2</td><td><a href=\"https://en.wikipedia.org/wiki/Texas\">Texas</a></td><td>94 kg</td></tr>,\n",
       " <tr><td>3</td><td><a href=\"https://en.wikipedia.org/wiki/Florida\">Florida</a><a> </a></td><td>80 kg</td></tr>]"
      ]
     },
     "metadata": {},
     "execution_count": 25
    }
   ],
   "source": [
    "table_rows=table_bs.find_all('tr')\n",
    "table_rows"
   ]
  },
  {
   "cell_type": "code",
   "execution_count": 26,
   "metadata": {},
   "outputs": [
    {
     "output_type": "execute_result",
     "data": {
      "text/plain": [
       "<tr><td id=\"flight\">Flight No</td><td>Launch site</td> <td>Payload mass</td></tr>"
      ]
     },
     "metadata": {},
     "execution_count": 26
    }
   ],
   "source": [
    "first_row =table_rows[0]\n",
    "first_row"
   ]
  },
  {
   "cell_type": "code",
   "execution_count": 27,
   "metadata": {},
   "outputs": [
    {
     "output_type": "stream",
     "name": "stdout",
     "text": [
      "<class 'bs4.element.Tag'>\n"
     ]
    }
   ],
   "source": [
    "print(type(first_row))"
   ]
  },
  {
   "cell_type": "code",
   "execution_count": 28,
   "metadata": {},
   "outputs": [
    {
     "output_type": "execute_result",
     "data": {
      "text/plain": [
       "<td id=\"flight\">Flight No</td>"
      ]
     },
     "metadata": {},
     "execution_count": 28
    }
   ],
   "source": [
    "first_row.td"
   ]
  },
  {
   "cell_type": "code",
   "execution_count": 29,
   "metadata": {},
   "outputs": [
    {
     "output_type": "stream",
     "name": "stdout",
     "text": [
      "row 0 is <tr><td id=\"flight\">Flight No</td><td>Launch site</td> <td>Payload mass</td></tr>\nrow 1 is <tr> <td>1</td><td><a href=\"https://en.wikipedia.org/wiki/Florida\">Florida</a><a></a></td><td>300 kg</td></tr>\nrow 2 is <tr><td>2</td><td><a href=\"https://en.wikipedia.org/wiki/Texas\">Texas</a></td><td>94 kg</td></tr>\nrow 3 is <tr><td>3</td><td><a href=\"https://en.wikipedia.org/wiki/Florida\">Florida</a><a> </a></td><td>80 kg</td></tr>\n"
     ]
    }
   ],
   "source": [
    "for i,row in enumerate(table_rows):\n",
    "    print(\"row\",i,\"is\",row)"
   ]
  },
  {
   "cell_type": "code",
   "execution_count": 30,
   "metadata": {},
   "outputs": [
    {
     "output_type": "stream",
     "name": "stdout",
     "text": [
      "row 0\ncolunm 0 cell <td id=\"flight\">Flight No</td>\ncolunm 1 cell <td>Launch site</td>\ncolunm 2 cell <td>Payload mass</td>\nrow 1\ncolunm 0 cell <td>1</td>\ncolunm 1 cell <td><a href=\"https://en.wikipedia.org/wiki/Florida\">Florida</a><a></a></td>\ncolunm 2 cell <td>300 kg</td>\nrow 2\ncolunm 0 cell <td>2</td>\ncolunm 1 cell <td><a href=\"https://en.wikipedia.org/wiki/Texas\">Texas</a></td>\ncolunm 2 cell <td>94 kg</td>\nrow 3\ncolunm 0 cell <td>3</td>\ncolunm 1 cell <td><a href=\"https://en.wikipedia.org/wiki/Florida\">Florida</a><a> </a></td>\ncolunm 2 cell <td>80 kg</td>\n"
     ]
    }
   ],
   "source": [
    "for i,row in enumerate(table_rows):\n",
    "    print(\"row\",i)\n",
    "    cells=row.find_all('td')\n",
    "    for j,cell in enumerate(cells):\n",
    "        print('colunm',j,\"cell\",cell)"
   ]
  },
  {
   "cell_type": "code",
   "execution_count": 31,
   "metadata": {},
   "outputs": [
    {
     "output_type": "execute_result",
     "data": {
      "text/plain": [
       "[<tr><td id=\"flight\">Flight No</td><td>Launch site</td> <td>Payload mass</td></tr>,\n",
       " <td id=\"flight\">Flight No</td>,\n",
       " <td>Launch site</td>,\n",
       " <td>Payload mass</td>,\n",
       " <tr> <td>1</td><td><a href=\"https://en.wikipedia.org/wiki/Florida\">Florida</a><a></a></td><td>300 kg</td></tr>,\n",
       " <td>1</td>,\n",
       " <td><a href=\"https://en.wikipedia.org/wiki/Florida\">Florida</a><a></a></td>,\n",
       " <td>300 kg</td>,\n",
       " <tr><td>2</td><td><a href=\"https://en.wikipedia.org/wiki/Texas\">Texas</a></td><td>94 kg</td></tr>,\n",
       " <td>2</td>,\n",
       " <td><a href=\"https://en.wikipedia.org/wiki/Texas\">Texas</a></td>,\n",
       " <td>94 kg</td>,\n",
       " <tr><td>3</td><td><a href=\"https://en.wikipedia.org/wiki/Florida\">Florida</a><a> </a></td><td>80 kg</td></tr>,\n",
       " <td>3</td>,\n",
       " <td><a href=\"https://en.wikipedia.org/wiki/Florida\">Florida</a><a> </a></td>,\n",
       " <td>80 kg</td>]"
      ]
     },
     "metadata": {},
     "execution_count": 31
    }
   ],
   "source": [
    "list_input=table_bs .find_all(name=[\"tr\", \"td\"])\n",
    "list_input"
   ]
  },
  {
   "cell_type": "code",
   "execution_count": 32,
   "metadata": {},
   "outputs": [
    {
     "output_type": "execute_result",
     "data": {
      "text/plain": [
       "[<td id=\"flight\">Flight No</td>]"
      ]
     },
     "metadata": {},
     "execution_count": 32
    }
   ],
   "source": [
    "table_bs.find_all(id=\"flight\")"
   ]
  },
  {
   "cell_type": "code",
   "execution_count": 34,
   "metadata": {},
   "outputs": [
    {
     "output_type": "execute_result",
     "data": {
      "text/plain": [
       "[<a href=\"https://en.wikipedia.org/wiki/Florida\">Florida</a>,\n",
       " <a href=\"https://en.wikipedia.org/wiki/Florida\">Florida</a>]"
      ]
     },
     "metadata": {},
     "execution_count": 34
    }
   ],
   "source": [
    "# We can find all the elements that have links to the Florida Wikipedia page:\n",
    "list_input=table_bs.find_all(href=\"https://en.wikipedia.org/wiki/Florida\")\n",
    "list_input"
   ]
  },
  {
   "cell_type": "code",
   "execution_count": 35,
   "metadata": {},
   "outputs": [
    {
     "output_type": "execute_result",
     "data": {
      "text/plain": [
       "[<a href=\"https://en.wikipedia.org/wiki/Florida\">Florida</a>,\n",
       " <a href=\"https://en.wikipedia.org/wiki/Texas\">Texas</a>,\n",
       " <a href=\"https://en.wikipedia.org/wiki/Florida\">Florida</a>]"
      ]
     },
     "metadata": {},
     "execution_count": 35
    }
   ],
   "source": [
    "table_bs.find_all(href=True)"
   ]
  },
  {
   "cell_type": "code",
   "execution_count": 36,
   "metadata": {},
   "outputs": [
    {
     "output_type": "execute_result",
     "data": {
      "text/plain": [
       "['Florida', 'Florida']"
      ]
     },
     "metadata": {},
     "execution_count": 36
    }
   ],
   "source": [
    "table_bs.find_all(string=\"Florida\")"
   ]
  },
  {
   "source": [
    "##### The find_all() method scans the entire document looking for results, it’s if you are looking for one element you can use the find() method to find the first element in the document. Consider the following two table:"
   ],
   "cell_type": "markdown",
   "metadata": {}
  },
  {
   "cell_type": "code",
   "execution_count": 37,
   "metadata": {},
   "outputs": [
    {
     "output_type": "display_data",
     "data": {
      "text/plain": "<IPython.core.display.HTML object>",
      "text/html": "<h3>Rocket Launch </h3>\n\n<p>\n<table class='rocket'>\n  <tr>\n    <td>Flight No</td>\n    <td>Launch site</td> \n    <td>Payload mass</td>\n  </tr>\n  <tr>\n    <td>1</td>\n    <td>Florida</td>\n    <td>300 kg</td>\n  </tr>\n  <tr>\n    <td>2</td>\n    <td>Texas</td>\n    <td>94 kg</td>\n  </tr>\n  <tr>\n    <td>3</td>\n    <td>Florida </td>\n    <td>80 kg</td>\n  </tr>\n</table>\n</p>\n<p>\n\n<h3>Pizza Party  </h3>\n  \n    \n<table class='pizza'>\n  <tr>\n    <td>Pizza Place</td>\n    <td>Orders</td> \n    <td>Slices </td>\n   </tr>\n  <tr>\n    <td>Domino's Pizza</td>\n    <td>10</td>\n    <td>100</td>\n  </tr>\n  <tr>\n    <td>Little Caesars</td>\n    <td>12</td>\n    <td >144 </td>\n  </tr>\n  <tr>\n    <td>Papa John's </td>\n    <td>15 </td>\n    <td>165</td>\n  </tr>\n"
     },
     "metadata": {}
    }
   ],
   "source": [
    "%%html\n",
    "<h3>Rocket Launch </h3>\n",
    "\n",
    "<p>\n",
    "<table class='rocket'>\n",
    "  <tr>\n",
    "    <td>Flight No</td>\n",
    "    <td>Launch site</td> \n",
    "    <td>Payload mass</td>\n",
    "  </tr>\n",
    "  <tr>\n",
    "    <td>1</td>\n",
    "    <td>Florida</td>\n",
    "    <td>300 kg</td>\n",
    "  </tr>\n",
    "  <tr>\n",
    "    <td>2</td>\n",
    "    <td>Texas</td>\n",
    "    <td>94 kg</td>\n",
    "  </tr>\n",
    "  <tr>\n",
    "    <td>3</td>\n",
    "    <td>Florida </td>\n",
    "    <td>80 kg</td>\n",
    "  </tr>\n",
    "</table>\n",
    "</p>\n",
    "<p>\n",
    "\n",
    "<h3>Pizza Party  </h3>\n",
    "  \n",
    "    \n",
    "<table class='pizza'>\n",
    "  <tr>\n",
    "    <td>Pizza Place</td>\n",
    "    <td>Orders</td> \n",
    "    <td>Slices </td>\n",
    "   </tr>\n",
    "  <tr>\n",
    "    <td>Domino's Pizza</td>\n",
    "    <td>10</td>\n",
    "    <td>100</td>\n",
    "  </tr>\n",
    "  <tr>\n",
    "    <td>Little Caesars</td>\n",
    "    <td>12</td>\n",
    "    <td >144 </td>\n",
    "  </tr>\n",
    "  <tr>\n",
    "    <td>Papa John's </td>\n",
    "    <td>15 </td>\n",
    "    <td>165</td>\n",
    "  </tr>"
   ]
  },
  {
   "cell_type": "code",
   "execution_count": 38,
   "metadata": {},
   "outputs": [],
   "source": [
    "two_tables=\"<h3>Rocket Launch </h3><p><table class='rocket'><tr><td>Flight No</td><td>Launch site</td> <td>Payload mass</td></tr><tr><td>1</td><td>Florida</td><td>300 kg</td></tr><tr><td>2</td><td>Texas</td><td>94 kg</td></tr><tr><td>3</td><td>Florida </td><td>80 kg</td></tr></table></p><p><h3>Pizza Party  </h3><table class='pizza'><tr><td>Pizza Place</td><td>Orders</td> <td>Slices </td></tr><tr><td>Domino's Pizza</td><td>10</td><td>100</td></tr><tr><td>Little Caesars</td><td>12</td><td >144 </td></tr><tr><td>Papa John's </td><td>15 </td><td>165</td></tr>\""
   ]
  },
  {
   "cell_type": "code",
   "execution_count": 39,
   "metadata": {},
   "outputs": [],
   "source": [
    "two_tables_bs= BeautifulSoup(two_tables, 'html.parser')"
   ]
  },
  {
   "cell_type": "code",
   "execution_count": 40,
   "metadata": {},
   "outputs": [
    {
     "output_type": "execute_result",
     "data": {
      "text/plain": [
       "<table class=\"rocket\"><tr><td>Flight No</td><td>Launch site</td> <td>Payload mass</td></tr><tr><td>1</td><td>Florida</td><td>300 kg</td></tr><tr><td>2</td><td>Texas</td><td>94 kg</td></tr><tr><td>3</td><td>Florida </td><td>80 kg</td></tr></table>"
      ]
     },
     "metadata": {},
     "execution_count": 40
    }
   ],
   "source": [
    "two_tables_bs.find(\"table\")"
   ]
  },
  {
   "cell_type": "code",
   "execution_count": 41,
   "metadata": {},
   "outputs": [
    {
     "output_type": "execute_result",
     "data": {
      "text/plain": [
       "<table class=\"pizza\"><tr><td>Pizza Place</td><td>Orders</td> <td>Slices </td></tr><tr><td>Domino's Pizza</td><td>10</td><td>100</td></tr><tr><td>Little Caesars</td><td>12</td><td>144 </td></tr><tr><td>Papa John's </td><td>15 </td><td>165</td></tr></table>"
      ]
     },
     "metadata": {},
     "execution_count": 41
    }
   ],
   "source": [
    "two_tables_bs.find(\"table\",class_='pizza')"
   ]
  },
  {
   "source": [
    "# Downloading And Scraping The Contents Of A Web Page"
   ],
   "cell_type": "markdown",
   "metadata": {}
  },
  {
   "cell_type": "code",
   "execution_count": 42,
   "metadata": {},
   "outputs": [],
   "source": [
    "url = \"http://www.ibm.com\""
   ]
  },
  {
   "cell_type": "code",
   "execution_count": 43,
   "metadata": {},
   "outputs": [],
   "source": [
    "data  = requests.get(url).text "
   ]
  },
  {
   "cell_type": "code",
   "execution_count": 44,
   "metadata": {},
   "outputs": [],
   "source": [
    "soup = BeautifulSoup(data,\"html5lib\")  # create a soup object using the variable 'data'"
   ]
  },
  {
   "cell_type": "code",
   "execution_count": 45,
   "metadata": {},
   "outputs": [
    {
     "output_type": "stream",
     "name": "stdout",
     "text": [
      "https://www.ibm.com/in/en\nhttps://www.ibm.com/sitemap/in/en\n/in-en/node/1706826\nhttps://smartatwork.s3.us.cloud-object-storage.appdomain.cloud/homepage/hc-advertising-ls-auto.jpg\nhttps://smartatwork.s3.us.cloud-object-storage.appdomain.cloud/homepage/hc-advertising-ls-auto.jpg\nhttps://www.ibm.com/in-en/cloud/hybrid?lnk=inhpv18l1\n/taxonomy/term/85416\n/in-en/node/2810374\nhttps://www.ibm.com/in-en/about#2810330\n/taxonomy/term/85416\n/in-en/node/1706851\n/in-en/node/1706841\n/in-en/node/1706831\n/in-en/node/1706836\n/in-en/node/1706846\n/taxonomy/term/85416\n/in-en/node/1706821\n/taxonomy/term/85416\nhttps://www.ibm.com/employment/in/\n/in-en/node/1706816\nhttps://www.ibm.com/in-en/marketplace/collections/offers-and-discounts/?link=inhpv18t5&lnk2=trial_mktpl_MPDISC\n/in-en/node/1706801\n/in-en/node/1706806\n/in-en/node/1706796\n/in-en/node/1706811\n/taxonomy/term/85416\n/in-en/node/1706866\n/in-en/node/1706861\n/taxonomy/term/85416\n/in-en/products\nhttps://www.ibm.com/in-en/cloud/hybrid?lnk=inhpv18l1\nhttps://www.ibm.com/in-en/cloud/hybrid?lnk=inhpv18l1\nhttps://www.ibm.com/in-en/about#2810330\nhttps://www.ibm.com/in-en/smarter-business/enterprise-applications?lnk=inhpv18f1\nhttp://www.ibm.com/in-en/events/cloud-podcasts?lnk=inhpv18f2\nhttps://www.ibm.com/thought-leadership/institute-business-value/report/ceo?lnk=inhpv18f3\nhttps://www.ibm.com/account/reg/signup?formid=urx-46355\nhttps://www.ibm.com/search?lang=en&amp;cc=in&amp;q=\n/in-en/products\n/in-en/products\n//www.ibm.com/in-en/products/category/technology/analytics\n//www.ibm.com/in-en/products/category/technology/cloud-computing\n//www.ibm.com/in-en/products/category/technology/mobile-technology\n//www.ibm.com/in-en/products/category/technology/cognitive-computing-and-AI\n//www.ibm.com/in-en/products/category/technology/IT-infrastructure\n//www.ibm.com/in-en/products/category/technology/security\n//www.ibm.com/in-en/products/category/technology/blockchain\n//www.ibm.com/in-en/products/category/technology/IT-management\n//www.ibm.com/in-en/products/category/technology/software-development\n//www.ibm.com/in-en/products/category/technology/analytics\n//www.ibm.com/in-en/products/category/technology/cloud-computing\n//www.ibm.com/in-en/products/category/technology/mobile-technology\n//www.ibm.com/in-en/products/category/technology/cognitive-computing-and-AI\n//www.ibm.com/in-en/products/category/technology/IT-infrastructure\n//www.ibm.com/in-en/products/category/technology/security\n//www.ibm.com/in-en/products/category/technology/blockchain\n//www.ibm.com/in-en/products/category/technology/IT-management\n//www.ibm.com/in-en/products/category/technology/software-development\n//www.ibm.com/in-en/products/category/business/business-operations\n//www.ibm.com/in-en/products/category/business/content-management\n//www.ibm.com/in-en/products/category/business/human-resources\n//www.ibm.com/in-en/products/category/business/collaboration\n//www.ibm.com/in-en/products/category/business/customer-service-and-CRM\n//www.ibm.com/in-en/products/category/business/marketing\n//www.ibm.com/in-en/products/category/business/commerce\n//www.ibm.com/in-en/products/category/business/finance\n//www.ibm.com/in-en/products/category/business/supply-chain-management\nhttps://www.ibm.com/in-en/marketplace/collections/offers-and-discounts/?link=inhpv18t5&lnk2=trial_mktpl_MPDISC\nhttps://cloud.ibm.com/registration?lnk=STW_IN_HP_T1_BLK&psrc=NONE&pexp=DEF&lnk2=trial_Cloud\nhttps://www.ibm.com/in-en/cloud/aspera?lnk=STW_IN_HP_T2_BLK&psrc=NONE&pexp=DEF&lnk2=trial_AsperaCloud\nhttps://www.ibm.com/account/reg/us-en/signup?formid=urx-46597&lnk=STW_IN_HP_T3_BLK&psrc=NONE&pexp=DEF&lnk2=trial_RoboticProcess\nhttps://www.ibm.com/in-en/cloud/bare-metal-servers?lnk=STW_IN_HP_T4_BLK&psrc=NONE&pexp=DEF&lnk2=trial_CloudBareMetal\nhttps://www.ibm.com/employment/in/\nhttps://www.ibm.com/employment/in/\n#\n"
     ]
    }
   ],
   "source": [
    "for link in soup.find_all('a',href=True):  # in html anchor/link is represented by the tag <a>\n",
    "\n",
    "    print(link.get('href'))"
   ]
  },
  {
   "source": [
    "## Scrape all images Tags"
   ],
   "cell_type": "markdown",
   "metadata": {}
  },
  {
   "cell_type": "code",
   "execution_count": 46,
   "metadata": {},
   "outputs": [
    {
     "output_type": "stream",
     "name": "stdout",
     "text": [
      "<img alt=\"Hybrid Cloud - IBM\" class=\"ibm-resize\" src=\"https://smartatwork.s3.us.cloud-object-storage.appdomain.cloud/homepage/hc-advertising-ls-auto.jpg\"/>\nhttps://smartatwork.s3.us.cloud-object-storage.appdomain.cloud/homepage/hc-advertising-ls-auto.jpg\n<img alt=\"BusinessApp\" class=\"ibm-resize ibm-flex\" height=\"170\" src=\"https://1.dam.s81c.com/m/64ce011df70079a7/original/10052020-f-enterprise-applications-25422-444x320.jpg\" width=\"300\"/>\nhttps://1.dam.s81c.com/m/64ce011df70079a7/original/10052020-f-enterprise-applications-25422-444x320.jpg\n<img alt=\"No Nerd Cloud Podcast\" class=\"ibm-resize ibm-flex\" height=\"170\" src=\"https://1.dam.s81c.com/public/content/dam/worldwide-content/homepage/ul/g/f9/a5/Logo-Lockup-444-w-x-320h-px.jpg\" width=\"300\"/>\nhttps://1.dam.s81c.com/public/content/dam/worldwide-content/homepage/ul/g/f9/a5/Logo-Lockup-444-w-x-320h-px.jpg\n<img alt=\"2021CEOStudy\" class=\"ibm-resize ibm-flex\" height=\"170\" src=\"https://1.dam.s81c.com/public/content/dam/worldwide-content/homepage/ul/g/32/52/20210125-IBV-CEO%20Study-mobile-25634-444x320.jpg\" width=\"300\"/>\nhttps://1.dam.s81c.com/public/content/dam/worldwide-content/homepage/ul/g/32/52/20210125-IBV-CEO%20Study-mobile-25634-444x320.jpg\n<img alt=\"Cost of Data Breach report\" class=\"ibm-resize ibm-flex\" height=\"170\" src=\"https://1.dam.s81c.com/m/3bbe4f5c5586c08d/original/cost-of-a-breach-444x320.jpg\" width=\"300\"/>\nhttps://1.dam.s81c.com/m/3bbe4f5c5586c08d/original/cost-of-a-breach-444x320.jpg\n<img alt=\"IBM Cloud\" class=\"ibm-resize ibm-flex\" height=\"170\" src=\"https://1.dam.s81c.com/m/13cef10976e080c1/original/IBM-Cloud-444x260.png\" width=\"300\"/>\nhttps://1.dam.s81c.com/m/13cef10976e080c1/original/IBM-Cloud-444x260.png\n<img alt=\"IBM Aspera\" class=\"ibm-resize ibm-flex\" height=\"170\" src=\"https://1.dam.s81c.com/public/content/dam/worldwide-content/other/ul/g/7f/21/7f21a7dd-0a06-4087-808bb5e950a3f5dc.png\" width=\"300\"/>\nhttps://1.dam.s81c.com/public/content/dam/worldwide-content/other/ul/g/7f/21/7f21a7dd-0a06-4087-808bb5e950a3f5dc.png\n<img alt=\"IBM Robotic Process Automation \" class=\"ibm-resize ibm-flex\" height=\"170\" src=\"https://1.dam.s81c.com/public/content/dam/worldwide-content/homepage/ul/g/ae/3d/RPA_Homepage%20Trial.png\" width=\"300\"/>\nhttps://1.dam.s81c.com/public/content/dam/worldwide-content/homepage/ul/g/ae/3d/RPA_Homepage%20Trial.png\n<img alt=\"Bare Metal Servers\" class=\"ibm-resize ibm-flex\" height=\"170\" src=\"https://1.dam.s81c.com/public/content/dam/worldwide-content/other/ul/g/7f/21/7f21a7dd-0a06-4087-808bb5e950a3f5dc.png\" width=\"300\"/>\nhttps://1.dam.s81c.com/public/content/dam/worldwide-content/other/ul/g/7f/21/7f21a7dd-0a06-4087-808bb5e950a3f5dc.png\n"
     ]
    }
   ],
   "source": [
    "for link in soup.find_all('img'):# in html image is represented by the tag <img>\n",
    "    print(link)\n",
    "    print(link.get('src'))"
   ]
  },
  {
   "source": [
    "## Scrape data from HTML tables"
   ],
   "cell_type": "markdown",
   "metadata": {}
  },
  {
   "cell_type": "code",
   "execution_count": 47,
   "metadata": {},
   "outputs": [],
   "source": [
    "#The below url contains an html table with data about colors and color codes.\n",
    "url = \"https://cf-courses-data.s3.us.cloud-object-storage.appdomain.cloud/IBM-DA0321EN-SkillsNetwork/labs/datasets/HTMLColorCodes.html\""
   ]
  },
  {
   "source": [
    "Before proceeding to scrape a web site, you need to examine the contents, and the way data is organized on the website. Open the above url in your browser and check how many rows and columns are there in the color table.\n",
    "\n"
   ],
   "cell_type": "markdown",
   "metadata": {}
  },
  {
   "cell_type": "code",
   "execution_count": 48,
   "metadata": {},
   "outputs": [],
   "source": [
    "# get the contents of the webpage in text format and store in a variable called data\n",
    "data  = requests.get(url).text"
   ]
  },
  {
   "cell_type": "code",
   "execution_count": 49,
   "metadata": {},
   "outputs": [],
   "source": [
    "soup = BeautifulSoup(data,\"html5lib\")"
   ]
  },
  {
   "cell_type": "code",
   "execution_count": 50,
   "metadata": {},
   "outputs": [],
   "source": [
    "#find a html table in the web page\n",
    "table = soup.find('table') # in html table is represented by the tag <table>"
   ]
  },
  {
   "cell_type": "code",
   "execution_count": 51,
   "metadata": {},
   "outputs": [
    {
     "output_type": "stream",
     "name": "stdout",
     "text": [
      "Color Name--->None\nlightsalmon--->#FFA07A\nsalmon--->#FA8072\ndarksalmon--->#E9967A\nlightcoral--->#F08080\ncoral--->#FF7F50\ntomato--->#FF6347\norangered--->#FF4500\ngold--->#FFD700\norange--->#FFA500\ndarkorange--->#FF8C00\nlightyellow--->#FFFFE0\nlemonchiffon--->#FFFACD\npapayawhip--->#FFEFD5\nmoccasin--->#FFE4B5\npeachpuff--->#FFDAB9\npalegoldenrod--->#EEE8AA\nkhaki--->#F0E68C\ndarkkhaki--->#BDB76B\nyellow--->#FFFF00\nlawngreen--->#7CFC00\nchartreuse--->#7FFF00\nlimegreen--->#32CD32\nlime--->#00FF00\nforestgreen--->#228B22\ngreen--->#008000\npowderblue--->#B0E0E6\nlightblue--->#ADD8E6\nlightskyblue--->#87CEFA\nskyblue--->#87CEEB\ndeepskyblue--->#00BFFF\nlightsteelblue--->#B0C4DE\ndodgerblue--->#1E90FF\n"
     ]
    }
   ],
   "source": [
    "#Get all rows from the table\n",
    "for row in table.find_all('tr'): # in html table row is represented by the tag <tr>\n",
    "    # Get all columns in each row.\n",
    "    cols = row.find_all('td') # in html a column is represented by the tag <td>\n",
    "    color_name = cols[2].string # store the value in column 3 as color_name\n",
    "    color_code = cols[3].string # store the value in column 4 as color_code\n",
    "    print(\"{}--->{}\".format(color_name,color_code))"
   ]
  },
  {
   "source": [
    "# Scrape data from HTML tables into a DataFrame using BeautifulSoup and Pandas"
   ],
   "cell_type": "markdown",
   "metadata": {}
  },
  {
   "cell_type": "code",
   "execution_count": 52,
   "metadata": {},
   "outputs": [],
   "source": [
    "import pandas as pd"
   ]
  },
  {
   "cell_type": "code",
   "execution_count": 53,
   "metadata": {},
   "outputs": [],
   "source": [
    "#The below url contains html tables with data about world population.\n",
    "url = \"https://en.wikipedia.org/wiki/World_population\""
   ]
  },
  {
   "source": [
    "### Before proceeding to scrape a web site, you need to examine the contents, and the way data is organized on the website. Open the above url in your browser and check the tables on the webpage."
   ],
   "cell_type": "markdown",
   "metadata": {}
  },
  {
   "cell_type": "code",
   "execution_count": 54,
   "metadata": {},
   "outputs": [],
   "source": [
    "# get the contents of the webpage in text format and store in a variable called data\n",
    "data  = requests.get(url).text"
   ]
  },
  {
   "cell_type": "code",
   "execution_count": 55,
   "metadata": {},
   "outputs": [],
   "source": [
    "soup = BeautifulSoup(data,\"html5lib\")"
   ]
  },
  {
   "cell_type": "code",
   "execution_count": 56,
   "metadata": {},
   "outputs": [],
   "source": [
    "#find all html tables in the web page\n",
    "tables = soup.find_all('table') # in html table is represented by the tag <table>"
   ]
  },
  {
   "cell_type": "code",
   "execution_count": 57,
   "metadata": {},
   "outputs": [
    {
     "output_type": "execute_result",
     "data": {
      "text/plain": [
       "25"
      ]
     },
     "metadata": {},
     "execution_count": 57
    }
   ],
   "source": [
    "# we can see how many tables were found by checking the length of the tables list\n",
    "len(tables)"
   ]
  },
  {
   "source": [
    "Assume that we are looking for the 10 most densly populated countries table, we can look through the tables list and find the right one we are look for based on the data in each table or we can search for the table name if it is in the table but this option might not always work."
   ],
   "cell_type": "markdown",
   "metadata": {}
  },
  {
   "cell_type": "code",
   "execution_count": 58,
   "metadata": {},
   "outputs": [
    {
     "output_type": "stream",
     "name": "stdout",
     "text": [
      "5\n"
     ]
    }
   ],
   "source": [
    "for index,table in enumerate(tables):\n",
    "    if (\"10 most densely populated countries\" in str(table)):\n",
    "        table_index = index\n",
    "print(table_index)"
   ]
  },
  {
   "cell_type": "code",
   "execution_count": 59,
   "metadata": {},
   "outputs": [
    {
     "output_type": "stream",
     "name": "stdout",
     "text": [
      "<table class=\"wikitable sortable\" style=\"text-align:right\">\n <caption>\n  10 most densely populated countries\n  <small>\n   (with population above 5 million)\n  </small>\n </caption>\n <tbody>\n  <tr>\n   <th>\n    Rank\n   </th>\n   <th>\n    Country\n   </th>\n   <th>\n    Population\n   </th>\n   <th>\n    Area\n    <br/>\n    <small>\n     (km\n     <sup>\n      2\n     </sup>\n     )\n    </small>\n   </th>\n   <th>\n    Density\n    <br/>\n    <small>\n     (pop/km\n     <sup>\n      2\n     </sup>\n     )\n    </small>\n   </th>\n  </tr>\n  <tr>\n   <td>\n    1\n   </td>\n   <td align=\"left\">\n    <span class=\"flagicon\">\n     <img alt=\"\" class=\"thumbborder\" data-file-height=\"2880\" data-file-width=\"4320\" decoding=\"async\" height=\"15\" src=\"//upload.wikimedia.org/wikipedia/commons/thumb/4/48/Flag_of_Singapore.svg/23px-Flag_of_Singapore.svg.png\" srcset=\"//upload.wikimedia.org/wikipedia/commons/thumb/4/48/Flag_of_Singapore.svg/35px-Flag_of_Singapore.svg.png 1.5x, //upload.wikimedia.org/wikipedia/commons/thumb/4/48/Flag_of_Singapore.svg/45px-Flag_of_Singapore.svg.png 2x\" width=\"23\"/>\n    </span>\n    <a href=\"/wiki/Singapore\" title=\"Singapore\">\n     Singapore\n    </a>\n   </td>\n   <td>\n    5,704,000\n   </td>\n   <td>\n    710\n   </td>\n   <td>\n    8,033\n   </td>\n  </tr>\n  <tr>\n   <td>\n    2\n   </td>\n   <td align=\"left\">\n    <span class=\"flagicon\">\n     <img alt=\"\" class=\"thumbborder\" data-file-height=\"600\" data-file-width=\"1000\" decoding=\"async\" height=\"14\" src=\"//upload.wikimedia.org/wikipedia/commons/thumb/f/f9/Flag_of_Bangladesh.svg/23px-Flag_of_Bangladesh.svg.png\" srcset=\"//upload.wikimedia.org/wikipedia/commons/thumb/f/f9/Flag_of_Bangladesh.svg/35px-Flag_of_Bangladesh.svg.png 1.5x, //upload.wikimedia.org/wikipedia/commons/thumb/f/f9/Flag_of_Bangladesh.svg/46px-Flag_of_Bangladesh.svg.png 2x\" width=\"23\"/>\n    </span>\n    <a href=\"/wiki/Bangladesh\" title=\"Bangladesh\">\n     Bangladesh\n    </a>\n   </td>\n   <td>\n    170,250,000\n   </td>\n   <td>\n    143,998\n   </td>\n   <td>\n    1,182\n   </td>\n  </tr>\n  <tr>\n   <td>\n    3\n   </td>\n   <td align=\"left\">\n    <span class=\"flagicon\">\n     <img alt=\"\" class=\"thumbborder\" data-file-height=\"600\" data-file-width=\"900\" decoding=\"async\" height=\"15\" src=\"//upload.wikimedia.org/wikipedia/commons/thumb/5/59/Flag_of_Lebanon.svg/23px-Flag_of_Lebanon.svg.png\" srcset=\"//upload.wikimedia.org/wikipedia/commons/thumb/5/59/Flag_of_Lebanon.svg/35px-Flag_of_Lebanon.svg.png 1.5x, //upload.wikimedia.org/wikipedia/commons/thumb/5/59/Flag_of_Lebanon.svg/45px-Flag_of_Lebanon.svg.png 2x\" width=\"23\"/>\n    </span>\n    <a href=\"/wiki/Lebanon\" title=\"Lebanon\">\n     Lebanon\n    </a>\n   </td>\n   <td>\n    6,856,000\n   </td>\n   <td>\n    10,452\n   </td>\n   <td>\n    656\n   </td>\n  </tr>\n  <tr>\n   <td>\n    4\n   </td>\n   <td align=\"left\">\n    <span class=\"flagicon\">\n     <img alt=\"\" class=\"thumbborder\" data-file-height=\"600\" data-file-width=\"900\" decoding=\"async\" height=\"15\" src=\"//upload.wikimedia.org/wikipedia/commons/thumb/7/72/Flag_of_the_Republic_of_China.svg/23px-Flag_of_the_Republic_of_China.svg.png\" srcset=\"//upload.wikimedia.org/wikipedia/commons/thumb/7/72/Flag_of_the_Republic_of_China.svg/35px-Flag_of_the_Republic_of_China.svg.png 1.5x, //upload.wikimedia.org/wikipedia/commons/thumb/7/72/Flag_of_the_Republic_of_China.svg/45px-Flag_of_the_Republic_of_China.svg.png 2x\" width=\"23\"/>\n    </span>\n    <a href=\"/wiki/Taiwan\" title=\"Taiwan\">\n     Taiwan\n    </a>\n   </td>\n   <td>\n    23,604,000\n   </td>\n   <td>\n    36,193\n   </td>\n   <td>\n    652\n   </td>\n  </tr>\n  <tr>\n   <td>\n    5\n   </td>\n   <td align=\"left\">\n    <span class=\"flagicon\">\n     <img alt=\"\" class=\"thumbborder\" data-file-height=\"600\" data-file-width=\"900\" decoding=\"async\" height=\"15\" src=\"//upload.wikimedia.org/wikipedia/commons/thumb/0/09/Flag_of_South_Korea.svg/23px-Flag_of_South_Korea.svg.png\" srcset=\"//upload.wikimedia.org/wikipedia/commons/thumb/0/09/Flag_of_South_Korea.svg/35px-Flag_of_South_Korea.svg.png 1.5x, //upload.wikimedia.org/wikipedia/commons/thumb/0/09/Flag_of_South_Korea.svg/45px-Flag_of_South_Korea.svg.png 2x\" width=\"23\"/>\n    </span>\n    <a href=\"/wiki/South_Korea\" title=\"South Korea\">\n     South Korea\n    </a>\n   </td>\n   <td>\n    51,781,000\n   </td>\n   <td>\n    99,538\n   </td>\n   <td>\n    520\n   </td>\n  </tr>\n  <tr>\n   <td>\n    6\n   </td>\n   <td align=\"left\">\n    <span class=\"flagicon\">\n     <img alt=\"\" class=\"thumbborder\" data-file-height=\"720\" data-file-width=\"1080\" decoding=\"async\" height=\"15\" src=\"//upload.wikimedia.org/wikipedia/commons/thumb/1/17/Flag_of_Rwanda.svg/23px-Flag_of_Rwanda.svg.png\" srcset=\"//upload.wikimedia.org/wikipedia/commons/thumb/1/17/Flag_of_Rwanda.svg/35px-Flag_of_Rwanda.svg.png 1.5x, //upload.wikimedia.org/wikipedia/commons/thumb/1/17/Flag_of_Rwanda.svg/45px-Flag_of_Rwanda.svg.png 2x\" width=\"23\"/>\n    </span>\n    <a href=\"/wiki/Rwanda\" title=\"Rwanda\">\n     Rwanda\n    </a>\n   </td>\n   <td>\n    12,374,000\n   </td>\n   <td>\n    26,338\n   </td>\n   <td>\n    470\n   </td>\n  </tr>\n  <tr>\n   <td>\n    7\n   </td>\n   <td align=\"left\">\n    <span class=\"flagicon\">\n     <img alt=\"\" class=\"thumbborder\" data-file-height=\"600\" data-file-width=\"1000\" decoding=\"async\" height=\"14\" src=\"//upload.wikimedia.org/wikipedia/commons/thumb/5/56/Flag_of_Haiti.svg/23px-Flag_of_Haiti.svg.png\" srcset=\"//upload.wikimedia.org/wikipedia/commons/thumb/5/56/Flag_of_Haiti.svg/35px-Flag_of_Haiti.svg.png 1.5x, //upload.wikimedia.org/wikipedia/commons/thumb/5/56/Flag_of_Haiti.svg/46px-Flag_of_Haiti.svg.png 2x\" width=\"23\"/>\n    </span>\n    <a href=\"/wiki/Haiti\" title=\"Haiti\">\n     Haiti\n    </a>\n   </td>\n   <td>\n    11,578,000\n   </td>\n   <td>\n    27,065\n   </td>\n   <td>\n    428\n   </td>\n  </tr>\n  <tr>\n   <td>\n    8\n   </td>\n   <td align=\"left\">\n    <span class=\"flagicon\">\n     <img alt=\"\" class=\"thumbborder\" data-file-height=\"600\" data-file-width=\"900\" decoding=\"async\" height=\"15\" src=\"//upload.wikimedia.org/wikipedia/commons/thumb/2/20/Flag_of_the_Netherlands.svg/23px-Flag_of_the_Netherlands.svg.png\" srcset=\"//upload.wikimedia.org/wikipedia/commons/thumb/2/20/Flag_of_the_Netherlands.svg/35px-Flag_of_the_Netherlands.svg.png 1.5x, //upload.wikimedia.org/wikipedia/commons/thumb/2/20/Flag_of_the_Netherlands.svg/45px-Flag_of_the_Netherlands.svg.png 2x\" width=\"23\"/>\n    </span>\n    <a href=\"/wiki/Netherlands\" title=\"Netherlands\">\n     Netherlands\n    </a>\n   </td>\n   <td>\n    17,570,000\n   </td>\n   <td>\n    41,526\n   </td>\n   <td>\n    423\n   </td>\n  </tr>\n  <tr>\n   <td>\n    9\n   </td>\n   <td align=\"left\">\n    <span class=\"flagicon\">\n     <img alt=\"\" class=\"thumbborder\" data-file-height=\"800\" data-file-width=\"1100\" decoding=\"async\" height=\"15\" src=\"//upload.wikimedia.org/wikipedia/commons/thumb/d/d4/Flag_of_Israel.svg/21px-Flag_of_Israel.svg.png\" srcset=\"//upload.wikimedia.org/wikipedia/commons/thumb/d/d4/Flag_of_Israel.svg/32px-Flag_of_Israel.svg.png 1.5x, //upload.wikimedia.org/wikipedia/commons/thumb/d/d4/Flag_of_Israel.svg/41px-Flag_of_Israel.svg.png 2x\" width=\"21\"/>\n    </span>\n    <a href=\"/wiki/Israel\" title=\"Israel\">\n     Israel\n    </a>\n   </td>\n   <td>\n    9,320,000\n   </td>\n   <td>\n    22,072\n   </td>\n   <td>\n    422\n   </td>\n  </tr>\n  <tr>\n   <td>\n    10\n   </td>\n   <td align=\"left\">\n    <span class=\"flagicon\">\n     <img alt=\"\" class=\"thumbborder\" data-file-height=\"900\" data-file-width=\"1350\" decoding=\"async\" height=\"15\" src=\"//upload.wikimedia.org/wikipedia/en/thumb/4/41/Flag_of_India.svg/23px-Flag_of_India.svg.png\" srcset=\"//upload.wikimedia.org/wikipedia/en/thumb/4/41/Flag_of_India.svg/35px-Flag_of_India.svg.png 1.5x, //upload.wikimedia.org/wikipedia/en/thumb/4/41/Flag_of_India.svg/45px-Flag_of_India.svg.png 2x\" width=\"23\"/>\n    </span>\n    <a href=\"/wiki/India\" title=\"India\">\n     India\n    </a>\n   </td>\n   <td>\n    1,373,980,000\n   </td>\n   <td>\n    3,287,240\n   </td>\n   <td>\n    418\n   </td>\n  </tr>\n </tbody>\n</table>\n\n"
     ]
    }
   ],
   "source": [
    "print(tables[table_index].prettify())"
   ]
  },
  {
   "cell_type": "code",
   "execution_count": 60,
   "metadata": {},
   "outputs": [
    {
     "output_type": "execute_result",
     "data": {
      "text/plain": [
       "  Rank       Country     Population       Area Density\n",
       "0    1     Singapore      5,704,000        710   8,033\n",
       "1    2    Bangladesh    170,250,000    143,998   1,182\n",
       "2    3       Lebanon      6,856,000     10,452     656\n",
       "3    4        Taiwan     23,604,000     36,193     652\n",
       "4    5   South Korea     51,781,000     99,538     520\n",
       "5    6        Rwanda     12,374,000     26,338     470\n",
       "6    7         Haiti     11,578,000     27,065     428\n",
       "7    8   Netherlands     17,570,000     41,526     423\n",
       "8    9        Israel      9,320,000     22,072     422\n",
       "9   10         India  1,373,980,000  3,287,240     418"
      ],
      "text/html": "<div>\n<style scoped>\n    .dataframe tbody tr th:only-of-type {\n        vertical-align: middle;\n    }\n\n    .dataframe tbody tr th {\n        vertical-align: top;\n    }\n\n    .dataframe thead th {\n        text-align: right;\n    }\n</style>\n<table border=\"1\" class=\"dataframe\">\n  <thead>\n    <tr style=\"text-align: right;\">\n      <th></th>\n      <th>Rank</th>\n      <th>Country</th>\n      <th>Population</th>\n      <th>Area</th>\n      <th>Density</th>\n    </tr>\n  </thead>\n  <tbody>\n    <tr>\n      <th>0</th>\n      <td>1</td>\n      <td>Singapore</td>\n      <td>5,704,000</td>\n      <td>710</td>\n      <td>8,033</td>\n    </tr>\n    <tr>\n      <th>1</th>\n      <td>2</td>\n      <td>Bangladesh</td>\n      <td>170,250,000</td>\n      <td>143,998</td>\n      <td>1,182</td>\n    </tr>\n    <tr>\n      <th>2</th>\n      <td>3</td>\n      <td>Lebanon</td>\n      <td>6,856,000</td>\n      <td>10,452</td>\n      <td>656</td>\n    </tr>\n    <tr>\n      <th>3</th>\n      <td>4</td>\n      <td>Taiwan</td>\n      <td>23,604,000</td>\n      <td>36,193</td>\n      <td>652</td>\n    </tr>\n    <tr>\n      <th>4</th>\n      <td>5</td>\n      <td>South Korea</td>\n      <td>51,781,000</td>\n      <td>99,538</td>\n      <td>520</td>\n    </tr>\n    <tr>\n      <th>5</th>\n      <td>6</td>\n      <td>Rwanda</td>\n      <td>12,374,000</td>\n      <td>26,338</td>\n      <td>470</td>\n    </tr>\n    <tr>\n      <th>6</th>\n      <td>7</td>\n      <td>Haiti</td>\n      <td>11,578,000</td>\n      <td>27,065</td>\n      <td>428</td>\n    </tr>\n    <tr>\n      <th>7</th>\n      <td>8</td>\n      <td>Netherlands</td>\n      <td>17,570,000</td>\n      <td>41,526</td>\n      <td>423</td>\n    </tr>\n    <tr>\n      <th>8</th>\n      <td>9</td>\n      <td>Israel</td>\n      <td>9,320,000</td>\n      <td>22,072</td>\n      <td>422</td>\n    </tr>\n    <tr>\n      <th>9</th>\n      <td>10</td>\n      <td>India</td>\n      <td>1,373,980,000</td>\n      <td>3,287,240</td>\n      <td>418</td>\n    </tr>\n  </tbody>\n</table>\n</div>"
     },
     "metadata": {},
     "execution_count": 60
    }
   ],
   "source": [
    "population_data = pd.DataFrame(columns=[\"Rank\", \"Country\", \"Population\", \"Area\", \"Density\"])\n",
    "\n",
    "for row in tables[table_index].tbody.find_all(\"tr\"):\n",
    "    col = row.find_all(\"td\")\n",
    "    if (col != []):\n",
    "        rank = col[0].text\n",
    "        country = col[1].text\n",
    "        population = col[2].text.strip()\n",
    "        area = col[3].text.strip()\n",
    "        density = col[4].text.strip()\n",
    "        population_data = population_data.append({\"Rank\":rank, \"Country\":country, \"Population\":population, \"Area\":area, \"Density\":density}, ignore_index=True)\n",
    "\n",
    "population_data"
   ]
  },
  {
   "source": [
    "# Scrape data from HTML tables into a DataFrame using BeautifulSoup and read_html\n",
    "##### Using the same url, data, soup, and tables object as in the last section we can use the read_html function to create a DataFrame.\n",
    "\n",
    "Remember the table we need is located in tables[table_index]\n",
    "\n",
    "We can now use the pandas function read_html and give it the string version of the table as well as the flavor which is the parsing engine bs4."
   ],
   "cell_type": "markdown",
   "metadata": {}
  },
  {
   "cell_type": "code",
   "execution_count": 61,
   "metadata": {},
   "outputs": [
    {
     "output_type": "execute_result",
     "data": {
      "text/plain": [
       "[   Rank      Country  Population  Area(km2)  Density(pop/km2)\n",
       " 0     1    Singapore     5704000        710              8033\n",
       " 1     2   Bangladesh   170250000     143998              1182\n",
       " 2     3      Lebanon     6856000      10452               656\n",
       " 3     4       Taiwan    23604000      36193               652\n",
       " 4     5  South Korea    51781000      99538               520\n",
       " 5     6       Rwanda    12374000      26338               470\n",
       " 6     7        Haiti    11578000      27065               428\n",
       " 7     8  Netherlands    17570000      41526               423\n",
       " 8     9       Israel     9320000      22072               422\n",
       " 9    10        India  1373980000    3287240               418]"
      ]
     },
     "metadata": {},
     "execution_count": 61
    }
   ],
   "source": [
    "pd.read_html(str(tables[5]), flavor='bs4')"
   ]
  },
  {
   "cell_type": "code",
   "execution_count": 65,
   "metadata": {},
   "outputs": [
    {
     "output_type": "execute_result",
     "data": {
      "text/plain": [
       "   Rank      Country  Population  Area(km2)  Density(pop/km2)\n",
       "0     1    Singapore     5704000        710              8033\n",
       "1     2   Bangladesh   170250000     143998              1182\n",
       "2     3      Lebanon     6856000      10452               656\n",
       "3     4       Taiwan    23604000      36193               652\n",
       "4     5  South Korea    51781000      99538               520\n",
       "5     6       Rwanda    12374000      26338               470\n",
       "6     7        Haiti    11578000      27065               428\n",
       "7     8  Netherlands    17570000      41526               423\n",
       "8     9       Israel     9320000      22072               422\n",
       "9    10        India  1373980000    3287240               418"
      ],
      "text/html": "<div>\n<style scoped>\n    .dataframe tbody tr th:only-of-type {\n        vertical-align: middle;\n    }\n\n    .dataframe tbody tr th {\n        vertical-align: top;\n    }\n\n    .dataframe thead th {\n        text-align: right;\n    }\n</style>\n<table border=\"1\" class=\"dataframe\">\n  <thead>\n    <tr style=\"text-align: right;\">\n      <th></th>\n      <th>Rank</th>\n      <th>Country</th>\n      <th>Population</th>\n      <th>Area(km2)</th>\n      <th>Density(pop/km2)</th>\n    </tr>\n  </thead>\n  <tbody>\n    <tr>\n      <th>0</th>\n      <td>1</td>\n      <td>Singapore</td>\n      <td>5704000</td>\n      <td>710</td>\n      <td>8033</td>\n    </tr>\n    <tr>\n      <th>1</th>\n      <td>2</td>\n      <td>Bangladesh</td>\n      <td>170250000</td>\n      <td>143998</td>\n      <td>1182</td>\n    </tr>\n    <tr>\n      <th>2</th>\n      <td>3</td>\n      <td>Lebanon</td>\n      <td>6856000</td>\n      <td>10452</td>\n      <td>656</td>\n    </tr>\n    <tr>\n      <th>3</th>\n      <td>4</td>\n      <td>Taiwan</td>\n      <td>23604000</td>\n      <td>36193</td>\n      <td>652</td>\n    </tr>\n    <tr>\n      <th>4</th>\n      <td>5</td>\n      <td>South Korea</td>\n      <td>51781000</td>\n      <td>99538</td>\n      <td>520</td>\n    </tr>\n    <tr>\n      <th>5</th>\n      <td>6</td>\n      <td>Rwanda</td>\n      <td>12374000</td>\n      <td>26338</td>\n      <td>470</td>\n    </tr>\n    <tr>\n      <th>6</th>\n      <td>7</td>\n      <td>Haiti</td>\n      <td>11578000</td>\n      <td>27065</td>\n      <td>428</td>\n    </tr>\n    <tr>\n      <th>7</th>\n      <td>8</td>\n      <td>Netherlands</td>\n      <td>17570000</td>\n      <td>41526</td>\n      <td>423</td>\n    </tr>\n    <tr>\n      <th>8</th>\n      <td>9</td>\n      <td>Israel</td>\n      <td>9320000</td>\n      <td>22072</td>\n      <td>422</td>\n    </tr>\n    <tr>\n      <th>9</th>\n      <td>10</td>\n      <td>India</td>\n      <td>1373980000</td>\n      <td>3287240</td>\n      <td>418</td>\n    </tr>\n  </tbody>\n</table>\n</div>"
     },
     "metadata": {},
     "execution_count": 65
    }
   ],
   "source": [
    "# The function read_html always returns a list of DataFrames so we must pick the one we want out of the list.\n",
    "population_data_read_html = pd.read_html(str(tables[5]), flavor='bs4')[0]\n",
    "population_data_read_html"
   ]
  },
  {
   "cell_type": "code",
   "execution_count": 66,
   "metadata": {},
   "outputs": [],
   "source": [
    "dataframe_list = pd.read_html(url, flavor='bs4')"
   ]
  },
  {
   "cell_type": "code",
   "execution_count": 67,
   "metadata": {},
   "outputs": [
    {
     "output_type": "execute_result",
     "data": {
      "text/plain": [
       "25"
      ]
     },
     "metadata": {},
     "execution_count": 67
    }
   ],
   "source": [
    "#We can see there are 25 DataFrames just like when we used find_all on the soup object.\n",
    "len(dataframe_list)\n",
    "len(dataframe_list)"
   ]
  },
  {
   "cell_type": "code",
   "execution_count": 68,
   "metadata": {},
   "outputs": [
    {
     "output_type": "execute_result",
     "data": {
      "text/plain": [
       "   Rank      Country  Population  Area(km2)  Density(pop/km2)\n",
       "0     1    Singapore     5704000        710              8033\n",
       "1     2   Bangladesh   170250000     143998              1182\n",
       "2     3      Lebanon     6856000      10452               656\n",
       "3     4       Taiwan    23604000      36193               652\n",
       "4     5  South Korea    51781000      99538               520\n",
       "5     6       Rwanda    12374000      26338               470\n",
       "6     7        Haiti    11578000      27065               428\n",
       "7     8  Netherlands    17570000      41526               423\n",
       "8     9       Israel     9320000      22072               422\n",
       "9    10        India  1373980000    3287240               418"
      ],
      "text/html": "<div>\n<style scoped>\n    .dataframe tbody tr th:only-of-type {\n        vertical-align: middle;\n    }\n\n    .dataframe tbody tr th {\n        vertical-align: top;\n    }\n\n    .dataframe thead th {\n        text-align: right;\n    }\n</style>\n<table border=\"1\" class=\"dataframe\">\n  <thead>\n    <tr style=\"text-align: right;\">\n      <th></th>\n      <th>Rank</th>\n      <th>Country</th>\n      <th>Population</th>\n      <th>Area(km2)</th>\n      <th>Density(pop/km2)</th>\n    </tr>\n  </thead>\n  <tbody>\n    <tr>\n      <th>0</th>\n      <td>1</td>\n      <td>Singapore</td>\n      <td>5704000</td>\n      <td>710</td>\n      <td>8033</td>\n    </tr>\n    <tr>\n      <th>1</th>\n      <td>2</td>\n      <td>Bangladesh</td>\n      <td>170250000</td>\n      <td>143998</td>\n      <td>1182</td>\n    </tr>\n    <tr>\n      <th>2</th>\n      <td>3</td>\n      <td>Lebanon</td>\n      <td>6856000</td>\n      <td>10452</td>\n      <td>656</td>\n    </tr>\n    <tr>\n      <th>3</th>\n      <td>4</td>\n      <td>Taiwan</td>\n      <td>23604000</td>\n      <td>36193</td>\n      <td>652</td>\n    </tr>\n    <tr>\n      <th>4</th>\n      <td>5</td>\n      <td>South Korea</td>\n      <td>51781000</td>\n      <td>99538</td>\n      <td>520</td>\n    </tr>\n    <tr>\n      <th>5</th>\n      <td>6</td>\n      <td>Rwanda</td>\n      <td>12374000</td>\n      <td>26338</td>\n      <td>470</td>\n    </tr>\n    <tr>\n      <th>6</th>\n      <td>7</td>\n      <td>Haiti</td>\n      <td>11578000</td>\n      <td>27065</td>\n      <td>428</td>\n    </tr>\n    <tr>\n      <th>7</th>\n      <td>8</td>\n      <td>Netherlands</td>\n      <td>17570000</td>\n      <td>41526</td>\n      <td>423</td>\n    </tr>\n    <tr>\n      <th>8</th>\n      <td>9</td>\n      <td>Israel</td>\n      <td>9320000</td>\n      <td>22072</td>\n      <td>422</td>\n    </tr>\n    <tr>\n      <th>9</th>\n      <td>10</td>\n      <td>India</td>\n      <td>1373980000</td>\n      <td>3287240</td>\n      <td>418</td>\n    </tr>\n  </tbody>\n</table>\n</div>"
     },
     "metadata": {},
     "execution_count": 68
    }
   ],
   "source": [
    "#Finally we can pick the DataFrame we need out of the list.\n",
    "dataframe_list[5]"
   ]
  },
  {
   "cell_type": "code",
   "execution_count": 69,
   "metadata": {},
   "outputs": [
    {
     "output_type": "execute_result",
     "data": {
      "text/plain": [
       "   Rank      Country  Population  Area(km2)  Density(pop/km2)\n",
       "0     1    Singapore     5704000        710              8033\n",
       "1     2   Bangladesh   170250000     143998              1182\n",
       "2     3      Lebanon     6856000      10452               656\n",
       "3     4       Taiwan    23604000      36193               652\n",
       "4     5  South Korea    51781000      99538               520\n",
       "5     6       Rwanda    12374000      26338               470\n",
       "6     7        Haiti    11578000      27065               428\n",
       "7     8  Netherlands    17570000      41526               423\n",
       "8     9       Israel     9320000      22072               422\n",
       "9    10        India  1373980000    3287240               418"
      ],
      "text/html": "<div>\n<style scoped>\n    .dataframe tbody tr th:only-of-type {\n        vertical-align: middle;\n    }\n\n    .dataframe tbody tr th {\n        vertical-align: top;\n    }\n\n    .dataframe thead th {\n        text-align: right;\n    }\n</style>\n<table border=\"1\" class=\"dataframe\">\n  <thead>\n    <tr style=\"text-align: right;\">\n      <th></th>\n      <th>Rank</th>\n      <th>Country</th>\n      <th>Population</th>\n      <th>Area(km2)</th>\n      <th>Density(pop/km2)</th>\n    </tr>\n  </thead>\n  <tbody>\n    <tr>\n      <th>0</th>\n      <td>1</td>\n      <td>Singapore</td>\n      <td>5704000</td>\n      <td>710</td>\n      <td>8033</td>\n    </tr>\n    <tr>\n      <th>1</th>\n      <td>2</td>\n      <td>Bangladesh</td>\n      <td>170250000</td>\n      <td>143998</td>\n      <td>1182</td>\n    </tr>\n    <tr>\n      <th>2</th>\n      <td>3</td>\n      <td>Lebanon</td>\n      <td>6856000</td>\n      <td>10452</td>\n      <td>656</td>\n    </tr>\n    <tr>\n      <th>3</th>\n      <td>4</td>\n      <td>Taiwan</td>\n      <td>23604000</td>\n      <td>36193</td>\n      <td>652</td>\n    </tr>\n    <tr>\n      <th>4</th>\n      <td>5</td>\n      <td>South Korea</td>\n      <td>51781000</td>\n      <td>99538</td>\n      <td>520</td>\n    </tr>\n    <tr>\n      <th>5</th>\n      <td>6</td>\n      <td>Rwanda</td>\n      <td>12374000</td>\n      <td>26338</td>\n      <td>470</td>\n    </tr>\n    <tr>\n      <th>6</th>\n      <td>7</td>\n      <td>Haiti</td>\n      <td>11578000</td>\n      <td>27065</td>\n      <td>428</td>\n    </tr>\n    <tr>\n      <th>7</th>\n      <td>8</td>\n      <td>Netherlands</td>\n      <td>17570000</td>\n      <td>41526</td>\n      <td>423</td>\n    </tr>\n    <tr>\n      <th>8</th>\n      <td>9</td>\n      <td>Israel</td>\n      <td>9320000</td>\n      <td>22072</td>\n      <td>422</td>\n    </tr>\n    <tr>\n      <th>9</th>\n      <td>10</td>\n      <td>India</td>\n      <td>1373980000</td>\n      <td>3287240</td>\n      <td>418</td>\n    </tr>\n  </tbody>\n</table>\n</div>"
     },
     "metadata": {},
     "execution_count": 69
    }
   ],
   "source": [
    "# We can also use the match parameter to select the specific table we want. If the table contains a string matching the text it will be read.\n",
    "pd.read_html(url, match=\"10 most densely populated countries\", flavor='bs4')[0]"
   ]
  },
  {
   "source": [
    "# Author"
   ],
   "cell_type": "markdown",
   "metadata": {}
  },
  {
   "source": [
    "Anmol Gupta"
   ],
   "cell_type": "markdown",
   "metadata": {}
  }
 ]
}